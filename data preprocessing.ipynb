{
 "cells": [
  {
   "cell_type": "code",
   "execution_count": 1,
   "metadata": {
    "collapsed": true
   },
   "outputs": [],
   "source": [
    "import requests\n",
    "import pandas as pd\n",
    "import numpy as np\n",
    "import os\n",
    "import time\n",
    "import datetime\n",
    "import json"
   ]
  },
  {
   "cell_type": "code",
   "execution_count": 2,
   "metadata": {
    "collapsed": true
   },
   "outputs": [],
   "source": [
    "csv_list = [file for file in os.listdir() if file.endswith(\"boxoffice.csv\")]"
   ]
  },
  {
   "cell_type": "code",
   "execution_count": 3,
   "metadata": {
    "collapsed": false
   },
   "outputs": [],
   "source": [
    "for i, data in enumerate(csv_list):\n",
    "    if i == 0:\n",
    "        df = pd.read_csv(data)\n",
    "    else:\n",
    "        small_df = pd.read_csv(data)\n",
    "        df = pd.concat([df, small_df]).reset_index(drop=True)"
   ]
  },
  {
   "cell_type": "code",
   "execution_count": 4,
   "metadata": {
    "collapsed": false
   },
   "outputs": [
    {
     "data": {
      "text/html": [
       "<div>\n",
       "<table border=\"1\" class=\"dataframe\">\n",
       "  <thead>\n",
       "    <tr style=\"text-align: right;\">\n",
       "      <th></th>\n",
       "      <th>순위</th>\n",
       "      <th>영화명</th>\n",
       "      <th>개봉일</th>\n",
       "      <th>매출액</th>\n",
       "      <th>매출액 점유율</th>\n",
       "      <th>관객수</th>\n",
       "      <th>스크린수</th>\n",
       "      <th>상영횟수</th>\n",
       "      <th>대표국적</th>\n",
       "      <th>국적</th>\n",
       "      <th>배급사</th>\n",
       "    </tr>\n",
       "  </thead>\n",
       "  <tbody>\n",
       "    <tr>\n",
       "      <th>23429</th>\n",
       "      <td>2217</td>\n",
       "      <td>BISFF HONOR 2</td>\n",
       "      <td>NaN</td>\n",
       "      <td>0</td>\n",
       "      <td>0.0%</td>\n",
       "      <td>0</td>\n",
       "      <td>1</td>\n",
       "      <td>2</td>\n",
       "      <td>한국</td>\n",
       "      <td>한국</td>\n",
       "      <td>NaN</td>\n",
       "    </tr>\n",
       "    <tr>\n",
       "      <th>23430</th>\n",
       "      <td>2217</td>\n",
       "      <td>BISFF HOT HOT</td>\n",
       "      <td>NaN</td>\n",
       "      <td>0</td>\n",
       "      <td>0.0%</td>\n",
       "      <td>0</td>\n",
       "      <td>1</td>\n",
       "      <td>2</td>\n",
       "      <td>기타</td>\n",
       "      <td>기타</td>\n",
       "      <td>NaN</td>\n",
       "    </tr>\n",
       "    <tr>\n",
       "      <th>23431</th>\n",
       "      <td>2217</td>\n",
       "      <td>[인디포럼2016] 기획전03 김지현특별전 02</td>\n",
       "      <td>NaN</td>\n",
       "      <td>0</td>\n",
       "      <td>0.0%</td>\n",
       "      <td>0</td>\n",
       "      <td>1</td>\n",
       "      <td>1</td>\n",
       "      <td>한국</td>\n",
       "      <td>한국</td>\n",
       "      <td>NaN</td>\n",
       "    </tr>\n",
       "    <tr>\n",
       "      <th>23432</th>\n",
       "      <td>2217</td>\n",
       "      <td>영향 아래 있는 여자</td>\n",
       "      <td>NaN</td>\n",
       "      <td>0</td>\n",
       "      <td>0.0%</td>\n",
       "      <td>0</td>\n",
       "      <td>1</td>\n",
       "      <td>3</td>\n",
       "      <td>NaN</td>\n",
       "      <td>NaN</td>\n",
       "      <td>NaN</td>\n",
       "    </tr>\n",
       "    <tr>\n",
       "      <th>23433</th>\n",
       "      <td>합계</td>\n",
       "      <td>NaN</td>\n",
       "      <td>NaN</td>\n",
       "      <td>820,067,267,748</td>\n",
       "      <td>NaN</td>\n",
       "      <td>102,278,002</td>\n",
       "      <td>78,970</td>\n",
       "      <td>3,027,941</td>\n",
       "      <td>NaN</td>\n",
       "      <td>NaN</td>\n",
       "      <td>NaN</td>\n",
       "    </tr>\n",
       "  </tbody>\n",
       "</table>\n",
       "</div>"
      ],
      "text/plain": [
       "         순위                         영화명  개봉일              매출액 매출액 점유율  \\\n",
       "23429  2217               BISFF HONOR 2  NaN                0    0.0%   \n",
       "23430  2217               BISFF HOT HOT  NaN                0    0.0%   \n",
       "23431  2217  [인디포럼2016] 기획전03 김지현특별전 02  NaN                0    0.0%   \n",
       "23432  2217                 영향 아래 있는 여자  NaN                0    0.0%   \n",
       "23433    합계                         NaN  NaN  820,067,267,748     NaN   \n",
       "\n",
       "               관객수    스크린수       상영횟수 대표국적   국적  배급사  \n",
       "23429            0       1          2   한국   한국  NaN  \n",
       "23430            0       1          2   기타   기타  NaN  \n",
       "23431            0       1          1   한국   한국  NaN  \n",
       "23432            0       1          3  NaN  NaN  NaN  \n",
       "23433  102,278,002  78,970  3,027,941  NaN  NaN  NaN  "
      ]
     },
     "execution_count": 4,
     "metadata": {},
     "output_type": "execute_result"
    }
   ],
   "source": [
    "df.tail()"
   ]
  },
  {
   "cell_type": "markdown",
   "metadata": {},
   "source": [
    "## 관객 수 10000명 이상"
   ]
  },
  {
   "cell_type": "code",
   "execution_count": 5,
   "metadata": {
    "collapsed": false
   },
   "outputs": [],
   "source": [
    "df[\"관객수\"] = df[\"관객수\"].str.replace(\",\",\"\")"
   ]
  },
  {
   "cell_type": "code",
   "execution_count": 6,
   "metadata": {
    "collapsed": true
   },
   "outputs": [],
   "source": [
    "df[\"관객수\"] = df[\"관객수\"].astype(int)"
   ]
  },
  {
   "cell_type": "code",
   "execution_count": 7,
   "metadata": {
    "collapsed": false
   },
   "outputs": [],
   "source": [
    "movie_df = df[df[\"관객수\"] > 10000].reset_index(drop=True)"
   ]
  },
  {
   "cell_type": "code",
   "execution_count": 8,
   "metadata": {
    "collapsed": false,
    "scrolled": true
   },
   "outputs": [],
   "source": [
    "movie_df = movie_df.drop(movie_df.index[[2569]])"
   ]
  },
  {
   "cell_type": "code",
   "execution_count": 9,
   "metadata": {
    "collapsed": false
   },
   "outputs": [],
   "source": [
    "movie_df = movie_df.drop_duplicates(\"영화명\").reset_index(drop=True)"
   ]
  },
  {
   "cell_type": "code",
   "execution_count": 10,
   "metadata": {
    "collapsed": false,
    "scrolled": false
   },
   "outputs": [],
   "source": [
    "movieNm = movie_df[\"영화명\"]"
   ]
  },
  {
   "cell_type": "markdown",
   "metadata": {
    "collapsed": true
   },
   "source": [
    "### movie_df to csv"
   ]
  },
  {
   "cell_type": "code",
   "execution_count": 11,
   "metadata": {
    "collapsed": true
   },
   "outputs": [],
   "source": [
    "movie_df.to_csv(\"movie.csv\",encoding=\"utf-8\")"
   ]
  },
  {
   "cell_type": "markdown",
   "metadata": {},
   "source": [
    "## get_movie_data"
   ]
  },
  {
   "cell_type": "code",
   "execution_count": 12,
   "metadata": {
    "collapsed": true
   },
   "outputs": [],
   "source": [
    "def get_movie_data(movieNm):\n",
    "    url = \"http://www.kobis.or.kr/kobisopenapi/webservice/rest/movie/searchMovieList.json\"\n",
    "    params = {\"key\":\"74ab5419e95d3e66cd760d6f498dc423\", \"movieNm\":movieNm}\n",
    "    r = requests.get(url, params=params)\n",
    "    return r.json()"
   ]
  },
  {
   "cell_type": "code",
   "execution_count": 13,
   "metadata": {
    "collapsed": true
   },
   "outputs": [],
   "source": [
    "def make_movie_df(movieNm):\n",
    "    movie_df = pd.DataFrame(columns = [\"movieCd\", \"movieNm\", \"director\", \"openDt\", \"typeNm\", \"repNationNm\", \"repGenreNm\", \"companyNm\"])\n",
    "    for i in list(movieNm):\n",
    "        try:\n",
    "            for data in get_movie_data(i)['movieListResult']['movieList']:\n",
    "                if len(data[\"directors\"]) >= 2:\n",
    "                    director = data[\"directors\"][0][\"peopleNm\"]\n",
    "                elif len(data[\"directors\"]) == 1:\n",
    "                    director = data[\"directors\"][0][\"peopleNm\"]\n",
    "                if len(data[\"companys\"]) >= 2:\n",
    "                    companyNm = data[\"companys\"][0][\"companyNm\"]\n",
    "                elif len(data[\"companys\"]) == 1:\n",
    "                    companyNm = data[\"companys\"][0][\"companyNm\"] \n",
    "                movie_df.loc[len(movie_df)] = [\n",
    "                    data[\"movieCd\"],\n",
    "                    data[\"movieNm\"],\n",
    "                    director,\n",
    "                    data[\"openDt\"],\n",
    "                    data[\"typeNm\"],\n",
    "                    data[\"repNationNm\"],\n",
    "                    data[\"repGenreNm\"],\n",
    "                    companyNm\n",
    "                ]\n",
    "        except:\n",
    "            print(i)\n",
    "    return movie_df"
   ]
  },
  {
   "cell_type": "code",
   "execution_count": 14,
   "metadata": {
    "collapsed": false
   },
   "outputs": [
    {
     "name": "stdout",
     "output_type": "stream",
     "text": [
      "황후화\n",
      "도쿄!\n",
      "그들 각자의 영화관\n",
      "시네마 천국\n"
     ]
    }
   ],
   "source": [
    "movie_info_df = make_movie_df(movieNm)"
   ]
  },
  {
   "cell_type": "code",
   "execution_count": 16,
   "metadata": {
    "collapsed": false
   },
   "outputs": [],
   "source": [
    "movie_info_df = movie_info_df[~movie_info_df[\"movieNm\"].str.contains(\"시네마정동\")].reset_index(drop=True)"
   ]
  },
  {
   "cell_type": "code",
   "execution_count": 17,
   "metadata": {
    "collapsed": false,
    "scrolled": false
   },
   "outputs": [],
   "source": [
    "movie_info_df = movie_info_df[movie_info_df[\"repNationNm\"] != \"기타\"].reset_index(drop=True)"
   ]
  },
  {
   "cell_type": "code",
   "execution_count": 18,
   "metadata": {
    "collapsed": false,
    "scrolled": false
   },
   "outputs": [],
   "source": [
    "movie_info_df = movie_info_df.drop_duplicates(\"movieNm\").reset_index(drop=True)"
   ]
  },
  {
   "cell_type": "code",
   "execution_count": 19,
   "metadata": {
    "collapsed": true
   },
   "outputs": [],
   "source": [
    "movie_info_df.to_csv(\"movie_info.csv\",encoding=\"utf-8\")"
   ]
  },
  {
   "cell_type": "code",
   "execution_count": 48,
   "metadata": {
    "collapsed": false
   },
   "outputs": [
    {
     "data": {
      "text/html": [
       "<div>\n",
       "<table border=\"1\" class=\"dataframe\">\n",
       "  <thead>\n",
       "    <tr style=\"text-align: right;\">\n",
       "      <th></th>\n",
       "      <th>Unnamed: 0</th>\n",
       "      <th>movieCd</th>\n",
       "      <th>movieNm</th>\n",
       "      <th>director</th>\n",
       "      <th>openDt</th>\n",
       "      <th>typeNm</th>\n",
       "      <th>repNationNm</th>\n",
       "      <th>repGenreNm</th>\n",
       "      <th>companyNm</th>\n",
       "    </tr>\n",
       "  </thead>\n",
       "  <tbody>\n",
       "    <tr>\n",
       "      <th>3000</th>\n",
       "      <td>3000</td>\n",
       "      <td>20158905</td>\n",
       "      <td>버스 657</td>\n",
       "      <td>스콧 만</td>\n",
       "      <td>20160114</td>\n",
       "      <td>장편</td>\n",
       "      <td>미국</td>\n",
       "      <td>액션</td>\n",
       "      <td>미디어 아시아 필름즈</td>\n",
       "    </tr>\n",
       "    <tr>\n",
       "      <th>3001</th>\n",
       "      <td>3001</td>\n",
       "      <td>20040703</td>\n",
       "      <td>조제, 호랑이 그리고 물고기들</td>\n",
       "      <td>이누도 잇신</td>\n",
       "      <td>20041029</td>\n",
       "      <td>장편</td>\n",
       "      <td>일본</td>\n",
       "      <td>드라마</td>\n",
       "      <td>아스믹에이스엔터테인먼트</td>\n",
       "    </tr>\n",
       "    <tr>\n",
       "      <th>3002</th>\n",
       "      <td>3002</td>\n",
       "      <td>20163081</td>\n",
       "      <td>미라클 프롬 헤븐</td>\n",
       "      <td>패트리시아 리건</td>\n",
       "      <td>20160525</td>\n",
       "      <td>장편</td>\n",
       "      <td>미국</td>\n",
       "      <td>드라마</td>\n",
       "      <td>아스믹에이스엔터테인먼트</td>\n",
       "    </tr>\n",
       "    <tr>\n",
       "      <th>3003</th>\n",
       "      <td>3003</td>\n",
       "      <td>20158982</td>\n",
       "      <td>트릭</td>\n",
       "      <td>이창열</td>\n",
       "      <td>20160713</td>\n",
       "      <td>장편</td>\n",
       "      <td>한국</td>\n",
       "      <td>스릴러</td>\n",
       "      <td>엘씨오픽쳐스</td>\n",
       "    </tr>\n",
       "    <tr>\n",
       "      <th>3004</th>\n",
       "      <td>3004</td>\n",
       "      <td>20154201</td>\n",
       "      <td>일렉트릭 슬라이드</td>\n",
       "      <td>트리스탄 패터슨</td>\n",
       "      <td>20150820</td>\n",
       "      <td>장편</td>\n",
       "      <td>미국</td>\n",
       "      <td>범죄</td>\n",
       "      <td>엘씨오픽쳐스</td>\n",
       "    </tr>\n",
       "    <tr>\n",
       "      <th>3005</th>\n",
       "      <td>3005</td>\n",
       "      <td>20164747</td>\n",
       "      <td>리틀 폭스</td>\n",
       "      <td>갈수영</td>\n",
       "      <td>20160623</td>\n",
       "      <td>장편</td>\n",
       "      <td>중국</td>\n",
       "      <td>애니메이션</td>\n",
       "      <td>엘씨오픽쳐스</td>\n",
       "    </tr>\n",
       "    <tr>\n",
       "      <th>3006</th>\n",
       "      <td>3006</td>\n",
       "      <td>19590006</td>\n",
       "      <td>벤허</td>\n",
       "      <td>윌리엄 와일러</td>\n",
       "      <td>19720907</td>\n",
       "      <td>장편</td>\n",
       "      <td>미국</td>\n",
       "      <td>드라마</td>\n",
       "      <td>메트로-골드윈-마이어</td>\n",
       "    </tr>\n",
       "    <tr>\n",
       "      <th>3007</th>\n",
       "      <td>3007</td>\n",
       "      <td>20152541</td>\n",
       "      <td>무수단</td>\n",
       "      <td>구모</td>\n",
       "      <td>20160303</td>\n",
       "      <td>장편</td>\n",
       "      <td>한국</td>\n",
       "      <td>미스터리</td>\n",
       "      <td>골든타이드픽처스(주)</td>\n",
       "    </tr>\n",
       "    <tr>\n",
       "      <th>3008</th>\n",
       "      <td>3008</td>\n",
       "      <td>20154902</td>\n",
       "      <td>자객 섭은낭</td>\n",
       "      <td>허우 샤오시엔</td>\n",
       "      <td>20160204</td>\n",
       "      <td>장편</td>\n",
       "      <td>대만</td>\n",
       "      <td>사극</td>\n",
       "      <td>골든타이드픽처스(주)</td>\n",
       "    </tr>\n",
       "    <tr>\n",
       "      <th>3009</th>\n",
       "      <td>3009</td>\n",
       "      <td>20156083</td>\n",
       "      <td>트윈스터즈</td>\n",
       "      <td>사만다 푸터먼</td>\n",
       "      <td>20160303</td>\n",
       "      <td>장편</td>\n",
       "      <td>미국</td>\n",
       "      <td>다큐멘터리</td>\n",
       "      <td>골든타이드픽처스(주)</td>\n",
       "    </tr>\n",
       "    <tr>\n",
       "      <th>3010</th>\n",
       "      <td>3010</td>\n",
       "      <td>20156080</td>\n",
       "      <td>나쁜놈은 죽는다</td>\n",
       "      <td>손호</td>\n",
       "      <td>20160204</td>\n",
       "      <td>장편</td>\n",
       "      <td>한국</td>\n",
       "      <td>코미디</td>\n",
       "      <td>(주)케이알씨지</td>\n",
       "    </tr>\n",
       "    <tr>\n",
       "      <th>3011</th>\n",
       "      <td>3011</td>\n",
       "      <td>20161598</td>\n",
       "      <td>산이 울다</td>\n",
       "      <td>래리 양</td>\n",
       "      <td>20160525</td>\n",
       "      <td>장편</td>\n",
       "      <td>중국</td>\n",
       "      <td>드라마</td>\n",
       "      <td>(주)케이알씨지</td>\n",
       "    </tr>\n",
       "    <tr>\n",
       "      <th>3012</th>\n",
       "      <td>3012</td>\n",
       "      <td>20164387</td>\n",
       "      <td>미스터 라잇</td>\n",
       "      <td>파코 카베자스</td>\n",
       "      <td>20160616</td>\n",
       "      <td>장편</td>\n",
       "      <td>미국</td>\n",
       "      <td>액션</td>\n",
       "      <td>(주)케이알씨지</td>\n",
       "    </tr>\n",
       "    <tr>\n",
       "      <th>3013</th>\n",
       "      <td>3013</td>\n",
       "      <td>20159965</td>\n",
       "      <td>겁쟁이 페달: 더 무비</td>\n",
       "      <td>나가누마 노리히로</td>\n",
       "      <td>20160114</td>\n",
       "      <td>장편</td>\n",
       "      <td>일본</td>\n",
       "      <td>애니메이션</td>\n",
       "      <td>(주)케이알씨지</td>\n",
       "    </tr>\n",
       "    <tr>\n",
       "      <th>3014</th>\n",
       "      <td>3014</td>\n",
       "      <td>20155174</td>\n",
       "      <td>미니 자이언트</td>\n",
       "      <td>마크 브라운로우</td>\n",
       "      <td>20160128</td>\n",
       "      <td>장편</td>\n",
       "      <td>영국</td>\n",
       "      <td>애니메이션</td>\n",
       "      <td>(주)케이알씨지</td>\n",
       "    </tr>\n",
       "    <tr>\n",
       "      <th>3015</th>\n",
       "      <td>3015</td>\n",
       "      <td>20153182</td>\n",
       "      <td>썸니아</td>\n",
       "      <td>마이크 플래너건</td>\n",
       "      <td>20160525</td>\n",
       "      <td>장편</td>\n",
       "      <td>미국</td>\n",
       "      <td>판타지</td>\n",
       "      <td>(주)케이알씨지</td>\n",
       "    </tr>\n",
       "    <tr>\n",
       "      <th>3016</th>\n",
       "      <td>3016</td>\n",
       "      <td>20020227</td>\n",
       "      <td>인썸니아</td>\n",
       "      <td>크리스토퍼 놀란</td>\n",
       "      <td>20020814</td>\n",
       "      <td>장편</td>\n",
       "      <td>미국</td>\n",
       "      <td>스릴러</td>\n",
       "      <td>(주)케이알씨지</td>\n",
       "    </tr>\n",
       "    <tr>\n",
       "      <th>3017</th>\n",
       "      <td>3017</td>\n",
       "      <td>20157441</td>\n",
       "      <td>멜리스</td>\n",
       "      <td>김용운</td>\n",
       "      <td>20160211</td>\n",
       "      <td>장편</td>\n",
       "      <td>한국</td>\n",
       "      <td>공포(호러)</td>\n",
       "      <td>(주)라임오렌지팩토리</td>\n",
       "    </tr>\n",
       "    <tr>\n",
       "      <th>3018</th>\n",
       "      <td>3018</td>\n",
       "      <td>20163441</td>\n",
       "      <td>몽키킹2: 서유기 여정의 시작</td>\n",
       "      <td>정보서</td>\n",
       "      <td>20160519</td>\n",
       "      <td>장편</td>\n",
       "      <td>중국</td>\n",
       "      <td>액션</td>\n",
       "      <td>(주)라임오렌지팩토리</td>\n",
       "    </tr>\n",
       "    <tr>\n",
       "      <th>3019</th>\n",
       "      <td>3019</td>\n",
       "      <td>20162101</td>\n",
       "      <td>최악의 이웃과 사랑에 빠지는 방법</td>\n",
       "      <td>클로비스 코르니악</td>\n",
       "      <td>20160407</td>\n",
       "      <td>장편</td>\n",
       "      <td>프랑스</td>\n",
       "      <td>멜로/로맨스</td>\n",
       "      <td>(주)라임오렌지팩토리</td>\n",
       "    </tr>\n",
       "  </tbody>\n",
       "</table>\n",
       "</div>"
      ],
      "text/plain": [
       "      Unnamed: 0   movieCd             movieNm   director    openDt typeNm  \\\n",
       "3000        3000  20158905              버스 657       스콧 만  20160114     장편   \n",
       "3001        3001  20040703    조제, 호랑이 그리고 물고기들    이누도 잇신   20041029     장편   \n",
       "3002        3002  20163081           미라클 프롬 헤븐   패트리시아 리건  20160525     장편   \n",
       "3003        3003  20158982                  트릭        이창열  20160713     장편   \n",
       "3004        3004  20154201           일렉트릭 슬라이드   트리스탄 패터슨  20150820     장편   \n",
       "3005        3005  20164747               리틀 폭스        갈수영  20160623     장편   \n",
       "3006        3006  19590006                  벤허    윌리엄 와일러  19720907     장편   \n",
       "3007        3007  20152541                 무수단         구모  20160303     장편   \n",
       "3008        3008  20154902              자객 섭은낭    허우 샤오시엔  20160204     장편   \n",
       "3009        3009  20156083               트윈스터즈    사만다 푸터먼  20160303     장편   \n",
       "3010        3010  20156080            나쁜놈은 죽는다         손호  20160204     장편   \n",
       "3011        3011  20161598               산이 울다       래리 양  20160525     장편   \n",
       "3012        3012  20164387              미스터 라잇    파코 카베자스  20160616     장편   \n",
       "3013        3013  20159965        겁쟁이 페달: 더 무비  나가누마 노리히로  20160114     장편   \n",
       "3014        3014  20155174             미니 자이언트   마크 브라운로우  20160128     장편   \n",
       "3015        3015  20153182                 썸니아   마이크 플래너건  20160525     장편   \n",
       "3016        3016  20020227                인썸니아   크리스토퍼 놀란  20020814     장편   \n",
       "3017        3017  20157441                 멜리스        김용운  20160211     장편   \n",
       "3018        3018  20163441    몽키킹2: 서유기 여정의 시작        정보서  20160519     장편   \n",
       "3019        3019  20162101  최악의 이웃과 사랑에 빠지는 방법  클로비스 코르니악  20160407     장편   \n",
       "\n",
       "     repNationNm repGenreNm     companyNm  \n",
       "3000          미국         액션   미디어 아시아 필름즈  \n",
       "3001          일본        드라마  아스믹에이스엔터테인먼트  \n",
       "3002          미국        드라마  아스믹에이스엔터테인먼트  \n",
       "3003          한국        스릴러        엘씨오픽쳐스  \n",
       "3004          미국         범죄        엘씨오픽쳐스  \n",
       "3005          중국      애니메이션        엘씨오픽쳐스  \n",
       "3006          미국        드라마   메트로-골드윈-마이어  \n",
       "3007          한국       미스터리   골든타이드픽처스(주)  \n",
       "3008          대만         사극   골든타이드픽처스(주)  \n",
       "3009          미국      다큐멘터리   골든타이드픽처스(주)  \n",
       "3010          한국        코미디      (주)케이알씨지  \n",
       "3011          중국        드라마      (주)케이알씨지  \n",
       "3012          미국         액션      (주)케이알씨지  \n",
       "3013          일본      애니메이션      (주)케이알씨지  \n",
       "3014          영국      애니메이션      (주)케이알씨지  \n",
       "3015          미국        판타지      (주)케이알씨지  \n",
       "3016          미국        스릴러      (주)케이알씨지  \n",
       "3017          한국     공포(호러)   (주)라임오렌지팩토리  \n",
       "3018          중국         액션   (주)라임오렌지팩토리  \n",
       "3019         프랑스     멜로/로맨스   (주)라임오렌지팩토리  "
      ]
     },
     "execution_count": 48,
     "metadata": {},
     "output_type": "execute_result"
    }
   ],
   "source": [
    "movie_info_df.tail(20)"
   ]
  },
  {
   "cell_type": "code",
   "execution_count": 58,
   "metadata": {
    "collapsed": true
   },
   "outputs": [],
   "source": [
    "def get_movie_detail(movieCd):\n",
    "    url = \"http://www.kobis.or.kr/kobisopenapi/webservice/rest/movie/searchMovieInfo.json\"\n",
    "    params = {\"key\":\"3805474b27f1763b1aaffa6702ea06e6\", \"movieCd\":movieCd}\n",
    "    r = requests.get(url, params=params)\n",
    "    return r.json()"
   ]
  },
  {
   "cell_type": "code",
   "execution_count": 14,
   "metadata": {
    "collapsed": true
   },
   "outputs": [],
   "source": [
    "movie_info_df = pd.read_csv(\"movie_info.csv\")"
   ]
  },
  {
   "cell_type": "code",
   "execution_count": 15,
   "metadata": {
    "collapsed": false
   },
   "outputs": [],
   "source": [
    "movieCd = movieCd.astype(str)"
   ]
  },
  {
   "cell_type": "code",
   "execution_count": 57,
   "metadata": {
    "collapsed": true
   },
   "outputs": [],
   "source": [
    "movieCd = movie_info_df[\"movieCd\"]"
   ]
  },
  {
   "cell_type": "code",
   "execution_count": 44,
   "metadata": {
    "collapsed": false
   },
   "outputs": [],
   "source": [
    "def make_movie_detail_df(movie_info_df):\n",
    "    movie_detail_df = pd.DataFrame(columns=[\"movieCd\", \n",
    "                                            \"movieNm\", \n",
    "                                            \"showTm\", \n",
    "                                            \"watchGradeNm\", \n",
    "                                            \"actor_1\",\n",
    "                                            \"actor_2\",\n",
    "                                            \"actor_3\",\n",
    "                                            \"companyNm\"\n",
    "                                            ])\n",
    "    for i in list(movieCd):\n",
    "        try:\n",
    "            data = get_movie_detail(i)['movieInfoResult']['movieInfo']\n",
    "            actor_list = []\n",
    "            if len(data[\"audits\"]) >= 2:\n",
    "                watchGradeNm = data[\"audits\"][0][\"watchGradeNm\"]\n",
    "            elif len(data[\"audits\"]) == 1:\n",
    "                watchGradeNm = data[\"audits\"][0][\"watchGradeNm\"]\n",
    "            if len(data[\"companys\"]) >= 2:\n",
    "                companyNm = data[\"companys\"][0][\"companyNm\"]\n",
    "            elif len(data[\"companys\"]) == 1:\n",
    "                companyNm = data[\"companys\"][0][\"companyNm\"] \n",
    "            if len(data[\"actors\"]) >= 3:\n",
    "                actor_list = [\n",
    "                    data[\"actors\"][0][\"peopleNm\"],\n",
    "                    data[\"actors\"][1][\"peopleNm\"],\n",
    "                    data[\"actors\"][2][\"peopleNm\"]\n",
    "                ]\n",
    "            else:\n",
    "                for i in range(len(data[\"actors\"])):\n",
    "                    actor_list.append(data[\"actors\"][i][\"peopleNm\"])\n",
    "                for i in range(3-len(data[\"actors\"])):\n",
    "                    actor_list.append(\"\")\n",
    "            movie_detail_df.loc[len(movie_detail_df)] = [\n",
    "                data[\"movieCd\"],\n",
    "                data[\"movieNm\"],\n",
    "                data[\"showTm\"],\n",
    "                watchGradeNm,\n",
    "                *actor_list,\n",
    "                companyNm\n",
    "            ]\n",
    "        except:\n",
    "             print(i)\n",
    "    return movie_detail_df"
   ]
  },
  {
   "cell_type": "code",
   "execution_count": 59,
   "metadata": {
    "collapsed": false,
    "scrolled": true
   },
   "outputs": [
    {
     "name": "stdout",
     "output_type": "stream",
     "text": [
      "20158905\n",
      "20040703\n",
      "20163081\n",
      "20158982\n",
      "20154201\n",
      "20164747\n",
      "19590006\n",
      "20152541\n",
      "20154902\n",
      "20156083\n",
      "20156080\n",
      "20161598\n",
      "20164387\n",
      "20159965\n",
      "20155174\n",
      "20153182\n",
      "20020227\n",
      "20157441\n",
      "20163441\n",
      "20162101\n"
     ]
    }
   ],
   "source": [
    "movie_detail_df = make_movie_detail_df(movieCd)"
   ]
  },
  {
   "cell_type": "code",
   "execution_count": 52,
   "metadata": {
    "collapsed": false
   },
   "outputs": [],
   "source": [
    "movieCd = movie_info_df[\"movieCd\"][3000::]"
   ]
  },
  {
   "cell_type": "code",
   "execution_count": 61,
   "metadata": {
    "collapsed": false
   },
   "outputs": [
    {
     "data": {
      "text/plain": [
       "3000"
      ]
     },
     "execution_count": 61,
     "metadata": {},
     "output_type": "execute_result"
    }
   ],
   "source": [
    "len(movie_detail_df)"
   ]
  },
  {
   "cell_type": "code",
   "execution_count": 63,
   "metadata": {
    "collapsed": false
   },
   "outputs": [
    {
     "data": {
      "text/plain": [
       "20"
      ]
     },
     "execution_count": 63,
     "metadata": {},
     "output_type": "execute_result"
    }
   ],
   "source": [
    "len(movie_detail1_df)"
   ]
  },
  {
   "cell_type": "code",
   "execution_count": 64,
   "metadata": {
    "collapsed": true
   },
   "outputs": [],
   "source": [
    "movie_detail = pd.concat([movie_detail_df, movie_detail1_df]).reset_index(drop=True)"
   ]
  },
  {
   "cell_type": "code",
   "execution_count": 66,
   "metadata": {
    "collapsed": false,
    "scrolled": true
   },
   "outputs": [],
   "source": [
    "movie_detail.to_csv(\"movie_detail.csv\",encoding=\"utf-8\")"
   ]
  },
  {
   "cell_type": "code",
   "execution_count": 86,
   "metadata": {
    "collapsed": false,
    "scrolled": false
   },
   "outputs": [],
   "source": [
    "boxoffice_df = movie_info_df.merge(movie_detail, left_on=\"movieNm\", right_on=\"movieNm\")[[\n",
    "        \"movieCd_x\",\n",
    "        \"movieNm\",\n",
    "        \"director\",\n",
    "        \"openDt\",\n",
    "        \"typeNm\",\n",
    "        \"repNationNm\",\n",
    "        \"repGenreNm\",\n",
    "        \"showTm\",\n",
    "        \"watchGradeNm\",\n",
    "        \"actor_1\",\n",
    "        \"actor_2\",\n",
    "        \"actor_3\",\n",
    "        \"companyNm_y\"\n",
    "    ]]"
   ]
  },
  {
   "cell_type": "code",
   "execution_count": 88,
   "metadata": {
    "collapsed": false,
    "scrolled": false
   },
   "outputs": [],
   "source": [
    "boxoffice_df = boxoffice_df.rename(columns={\"movieCd_x\":\"movieCd\", \"companyNm_y\":\"companyNm\"})"
   ]
  },
  {
   "cell_type": "code",
   "execution_count": 90,
   "metadata": {
    "collapsed": false
   },
   "outputs": [],
   "source": [
    "boxoffice_df.to_csv(\"boxoffice.csv\",encoding=\"utf-8\")"
   ]
  },
  {
   "cell_type": "code",
   "execution_count": null,
   "metadata": {
    "collapsed": true
   },
   "outputs": [],
   "source": []
  }
 ],
 "metadata": {
  "kernelspec": {
   "display_name": "Python 3",
   "language": "python",
   "name": "python3"
  },
  "language_info": {
   "codemirror_mode": {
    "name": "ipython",
    "version": 3
   },
   "file_extension": ".py",
   "mimetype": "text/x-python",
   "name": "python",
   "nbconvert_exporter": "python",
   "pygments_lexer": "ipython3",
   "version": "3.5.1"
  }
 },
 "nbformat": 4,
 "nbformat_minor": 0
}

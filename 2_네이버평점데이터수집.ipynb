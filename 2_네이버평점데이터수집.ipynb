{
 "cells": [
  {
   "cell_type": "markdown",
   "metadata": {},
   "source": [
    "## import package"
   ]
  },
  {
   "cell_type": "code",
   "execution_count": 7,
   "metadata": {
    "collapsed": true
   },
   "outputs": [],
   "source": [
    "import requests\n",
    "import pandas as pd\n",
    "import numpy as np\n",
    "from bs4 import BeautifulSoup"
   ]
  },
  {
   "cell_type": "markdown",
   "metadata": {},
   "source": [
    "## 네이버 영화정보 url 수집"
   ]
  },
  {
   "cell_type": "code",
   "execution_count": 2,
   "metadata": {
    "collapsed": true
   },
   "outputs": [],
   "source": [
    "naver_df = pd.read_csv(\"total_movie.csv\", index_col=0)"
   ]
  },
  {
   "cell_type": "code",
   "execution_count": 3,
   "metadata": {
    "collapsed": false
   },
   "outputs": [],
   "source": [
    "naver_df = naver_df[naver_df[\"movieNm\"].str.contains(\"감독\")==False]\n",
    "naver_df = naver_df[naver_df[\"movieNm\"].str.contains(\"확장\")==False]\n",
    "naver_df = naver_df.reset_index(drop=True)"
   ]
  },
  {
   "cell_type": "code",
   "execution_count": 31,
   "metadata": {
    "collapsed": true
   },
   "outputs": [],
   "source": [
    "def get_star_score_url(naver_df):\n",
    "    url_df = pd.DataFrame(columns=[\"movieCd\",\"movieNm_x\",\"movieNm_y\",\"url\"])\n",
    "    for n, i in enumerate(list(naver_df[\"movieNm\"])):\n",
    "        \n",
    "        try:\n",
    "            data = (\"http://movie.naver.com/movie/search/result.nhn?query={movieNm}&section=all&ie=utf8\").format(movieNm=i)\n",
    "            r = requests.get(data)\n",
    "            dom = BeautifulSoup(r.content, \"html.parser\")\n",
    "            dom1 = dom.select(\"p.result_thumb\")\n",
    "            open_year = naver_df[\"prdtYear\"].apply(lambda x: str(x)[0:4])\n",
    "            if dom1[-1] == dom1[0]:\n",
    "                for i, data in enumerate(dom1):\n",
    "                    url = data.select_one(\"a\")[\"href\"]\n",
    "                    movieNm = dom.select(\"dt\")[i].text\n",
    "                    url_df.loc[len(url_df)] = [\n",
    "                    naver_df[\"movieCd\"][n],\n",
    "                    naver_df[\"movieNm\"][n],\n",
    "                    movieNm,\n",
    "                    url,]\n",
    "            elif dom1[-1] != dom1[0]:\n",
    "                num = 0\n",
    "                for j in range(0,len(dom.select(\"dd.etc\")),2):\n",
    "                    year = dom.select(\"dd.etc\")[j].text[-4::]\n",
    "                    if (year == open_year[n]) & (num == j):\n",
    "                        num += 10\n",
    "                        url = dom1[int(j/2)].select_one(\"a\")[\"href\"]\n",
    "                        movieNm = dom.select(\"dt\")[int(j/2)].text\n",
    "                        url_df.loc[len(url_df)] = [\n",
    "                        naver_df[\"movieCd\"][n],\n",
    "                        naver_df[\"movieNm\"][n],\n",
    "                        movieNm,\n",
    "                        url,]\n",
    "                    num += 2\n",
    "        except:\n",
    "            print(i)\n",
    "    return url_df"
   ]
  },
  {
   "cell_type": "code",
   "execution_count": 34,
   "metadata": {
    "collapsed": false
   },
   "outputs": [
    {
     "name": "stdout",
     "output_type": "stream",
     "text": [
      "로봇(애니)\n",
      "트리플 X2 : 넥스트 레벨\n",
      "유령신부(애니)\n",
      "프라임 러브\n",
      "링2(2005)\n",
      "발리언트(애니)\n",
      "펭귄 - 위대한 모험(다큐)\n",
      "보글보글 스폰지밥(애니)\n",
      "40살까지 못해본 사람\n",
      "얼음왕국 : 북극의 여름이야기(다큐)\n",
      "부그와 엘리엇(애니)\n",
      "헨젤과 그레텔: 마녀 사냥꾼 3D\n",
      "신나는 동물농장(애니)\n",
      "4요일: 자살을 부르는 요일\n",
      "국가대표 완결판-못 다한 이야기\n",
      "아더와 미니모이-제1탄비밀원정대의출정\n",
      "대한민국 1%\n",
      "2008 서태지 심포니 위드 톨가 카쉬프 로열필하모닉\n",
      "언터처블: 1%의 우정\n"
     ]
    }
   ],
   "source": [
    "url_df = get_star_score_url(naver_df)"
   ]
  },
  {
   "cell_type": "markdown",
   "metadata": {},
   "source": [
    "### url_df to csv"
   ]
  },
  {
   "cell_type": "code",
   "execution_count": 40,
   "metadata": {
    "collapsed": true
   },
   "outputs": [],
   "source": [
    "url_df.to_csv(\"url.csv\",encoding=\"utf-8\")"
   ]
  },
  {
   "cell_type": "markdown",
   "metadata": {
    "collapsed": true
   },
   "source": [
    "## 네이버 영화 별점 수집"
   ]
  },
  {
   "cell_type": "code",
   "execution_count": 3,
   "metadata": {
    "collapsed": false
   },
   "outputs": [],
   "source": [
    "url_df = pd.read_csv(\"url.csv\",index_col=0)"
   ]
  },
  {
   "cell_type": "code",
   "execution_count": 5,
   "metadata": {
    "collapsed": false
   },
   "outputs": [
    {
     "data": {
      "text/html": [
       "<div>\n",
       "<table border=\"1\" class=\"dataframe\">\n",
       "  <thead>\n",
       "    <tr style=\"text-align: right;\">\n",
       "      <th></th>\n",
       "      <th>movieCd</th>\n",
       "      <th>movieNm_x</th>\n",
       "      <th>movieNm_y</th>\n",
       "      <th>url</th>\n",
       "    </tr>\n",
       "  </thead>\n",
       "  <tbody>\n",
       "    <tr>\n",
       "      <th>0</th>\n",
       "      <td>20030371.0</td>\n",
       "      <td>태극기 휘날리며</td>\n",
       "      <td>태극기 휘날리며 (TaeGukGi: Brotherhood Of War)</td>\n",
       "      <td>/movie/bi/mi/basic.nhn?code=36666</td>\n",
       "    </tr>\n",
       "    <tr>\n",
       "      <th>1</th>\n",
       "      <td>20040555.0</td>\n",
       "      <td>트로이</td>\n",
       "      <td>트로이 (Troy)</td>\n",
       "      <td>/movie/bi/mi/basic.nhn?code=37742</td>\n",
       "    </tr>\n",
       "    <tr>\n",
       "      <th>2</th>\n",
       "      <td>20040673.0</td>\n",
       "      <td>내 머리 속의 지우개</td>\n",
       "      <td>내 머리 속의 지우개 (A Moment To Remember)</td>\n",
       "      <td>/movie/bi/mi/basic.nhn?code=38662</td>\n",
       "    </tr>\n",
       "    <tr>\n",
       "      <th>3</th>\n",
       "      <td>20040649.0</td>\n",
       "      <td>귀신이 산다</td>\n",
       "      <td>귀신이 산다 (Ghost House)</td>\n",
       "      <td>/movie/bi/mi/basic.nhn?code=38254</td>\n",
       "    </tr>\n",
       "    <tr>\n",
       "      <th>4</th>\n",
       "      <td>20159748.0</td>\n",
       "      <td>투모로우랜드</td>\n",
       "      <td>투모로우랜드 (Tomorrowland)</td>\n",
       "      <td>/movie/bi/mi/basic.nhn?code=101960</td>\n",
       "    </tr>\n",
       "  </tbody>\n",
       "</table>\n",
       "</div>"
      ],
      "text/plain": [
       "      movieCd    movieNm_x                                movieNm_y  \\\n",
       "0  20030371.0     태극기 휘날리며  태극기 휘날리며 (TaeGukGi: Brotherhood Of War)   \n",
       "1  20040555.0          트로이                               트로이 (Troy)   \n",
       "2  20040673.0  내 머리 속의 지우개       내 머리 속의 지우개 (A Moment To Remember)   \n",
       "3  20040649.0       귀신이 산다                     귀신이 산다 (Ghost House)   \n",
       "4  20159748.0       투모로우랜드                    투모로우랜드 (Tomorrowland)   \n",
       "\n",
       "                                  url  \n",
       "0   /movie/bi/mi/basic.nhn?code=36666  \n",
       "1   /movie/bi/mi/basic.nhn?code=37742  \n",
       "2   /movie/bi/mi/basic.nhn?code=38662  \n",
       "3   /movie/bi/mi/basic.nhn?code=38254  \n",
       "4  /movie/bi/mi/basic.nhn?code=101960  "
      ]
     },
     "execution_count": 5,
     "metadata": {},
     "output_type": "execute_result"
    }
   ],
   "source": [
    "url_df.head()"
   ]
  },
  {
   "cell_type": "markdown",
   "metadata": {},
   "source": [
    "### 네이버 영화 code 추출"
   ]
  },
  {
   "cell_type": "code",
   "execution_count": 8,
   "metadata": {
    "collapsed": false
   },
   "outputs": [],
   "source": [
    "url_df[\"code\"] = url_df[\"url\"].apply(lambda x:np.int(x.split(\"=\")[1]))"
   ]
  },
  {
   "cell_type": "code",
   "execution_count": 11,
   "metadata": {
    "collapsed": false,
    "scrolled": false
   },
   "outputs": [],
   "source": [
    "def get_star_score(url_df):\n",
    "    star_score_df = pd.DataFrame(columns=[\"movieCd\",\"movieNm\",\"star_score\",\"star_user_count\"])#,\"scene_score\",\"scene_count\"])\n",
    "    for n, i in enumerate(list(url_df[\"code\"])):\n",
    "        try:\n",
    "            data = (\"http://movie.naver.com/movie/bi/mi/point.nhn?code={code}\").format(code=i)\n",
    "            r = requests.get(data)\n",
    "            dom = BeautifulSoup(r.content, \"html.parser\")\n",
    "            dom1 = dom.select_one(\"#beforePointArea\")\n",
    "            dom2 = dom1.select(\"em\")[2:]\n",
    "            star_user_count = dom2[-1].text\n",
    "            star_score = (\"\").join([i.text for i in dom2 [:-1]])\n",
    "            star_score_df.loc[len(star_score_df)] = [\n",
    "                url_df[\"movieCd\"][n],\n",
    "                url_df[\"movieNm_x\"][n],\n",
    "                star_score,\n",
    "                star_user_count,\n",
    "            ]\n",
    "        except:\n",
    "            print(i)\n",
    "    return star_score_df"
   ]
  },
  {
   "cell_type": "code",
   "execution_count": 12,
   "metadata": {
    "collapsed": false
   },
   "outputs": [
    {
     "name": "stdout",
     "output_type": "stream",
     "text": [
      "60779\n",
      "98446\n",
      "98447\n"
     ]
    }
   ],
   "source": [
    "star_score_df = get_star_score(url_df)"
   ]
  },
  {
   "cell_type": "code",
   "execution_count": 16,
   "metadata": {
    "collapsed": false
   },
   "outputs": [],
   "source": [
    "star_score_df[\"star_score\"] = star_score_df[\"star_score\"].astype(float)\n",
    "star_score_df[\"star_user_count\"] = star_score_df[\"star_user_count\"].apply(lambda x: np.int(x.replace(\",\",\"\")))"
   ]
  },
  {
   "cell_type": "markdown",
   "metadata": {},
   "source": [
    "### star_score_df to csv"
   ]
  },
  {
   "cell_type": "code",
   "execution_count": 23,
   "metadata": {
    "collapsed": false
   },
   "outputs": [],
   "source": [
    "star_score_df.to_csv(\"star_score.csv\",encoding=\"utf-8\")"
   ]
  }
 ],
 "metadata": {
  "kernelspec": {
   "display_name": "Python 3",
   "language": "python",
   "name": "python3"
  },
  "language_info": {
   "codemirror_mode": {
    "name": "ipython",
    "version": 3
   },
   "file_extension": ".py",
   "mimetype": "text/x-python",
   "name": "python",
   "nbconvert_exporter": "python",
   "pygments_lexer": "ipython3",
   "version": "3.5.1"
  }
 },
 "nbformat": 4,
 "nbformat_minor": 0
}

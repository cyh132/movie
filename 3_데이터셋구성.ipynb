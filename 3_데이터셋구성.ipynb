{
 "cells": [
  {
   "cell_type": "markdown",
   "metadata": {},
   "source": [
    "## import package"
   ]
  },
  {
   "cell_type": "code",
   "execution_count": 66,
   "metadata": {
    "collapsed": true
   },
   "outputs": [],
   "source": [
    "import pandas as pd\n",
    "import numpy as np\n",
    "from sklearn.preprocessing import OneHotEncoder\n",
    "from sklearn.preprocessing import LabelEncoder"
   ]
  },
  {
   "cell_type": "markdown",
   "metadata": {},
   "source": [
    "## 데이터셋 구성"
   ]
  },
  {
   "cell_type": "code",
   "execution_count": 2,
   "metadata": {
    "collapsed": true
   },
   "outputs": [],
   "source": [
    "total_df = pd.read_csv(\"total_movie.csv\", index_col=0)\n",
    "star_score_df = pd.read_csv(\"star_score.csv\",index_col=0)"
   ]
  },
  {
   "cell_type": "code",
   "execution_count": 3,
   "metadata": {
    "collapsed": false
   },
   "outputs": [],
   "source": [
    "data_set = star_score_df.merge(total_df,how=\"inner\",on=\"movieCd\")"
   ]
  },
  {
   "cell_type": "code",
   "execution_count": 4,
   "metadata": {
    "collapsed": false
   },
   "outputs": [],
   "source": [
    "data_set[\"movieCd\"] = data_set[\"movieCd\"].astype(int)\n",
    "data_set = data_set.drop(\"movieNm_y\",axis=1)\n",
    "data_set = data_set.rename(columns={\"movieNm_x\":\"movieNm\"})"
   ]
  },
  {
   "cell_type": "markdown",
   "metadata": {},
   "source": [
    "### data_set to csv"
   ]
  },
  {
   "cell_type": "code",
   "execution_count": 5,
   "metadata": {
    "collapsed": false
   },
   "outputs": [],
   "source": [
    "data_set.to_csv(\"data_set.csv\",encoding=\"utf-8\")"
   ]
  },
  {
   "cell_type": "markdown",
   "metadata": {},
   "source": [
    "## 카테고리 feature 정리"
   ]
  },
  {
   "cell_type": "code",
   "execution_count": 54,
   "metadata": {
    "collapsed": true
   },
   "outputs": [],
   "source": [
    "data_set = pd.read_csv(\"data_set.csv\", index_col=0)"
   ]
  },
  {
   "cell_type": "code",
   "execution_count": 55,
   "metadata": {
    "collapsed": false
   },
   "outputs": [],
   "source": [
    "data_set[\"openDt\"] = data_set[\"openDt\"].apply(lambda x: str(x)[4:6])"
   ]
  },
  {
   "cell_type": "code",
   "execution_count": 56,
   "metadata": {
    "collapsed": true
   },
   "outputs": [],
   "source": [
    "def month_change(i):\n",
    "    if i == \"01\":\n",
    "        return '1월'\n",
    "    elif i == '02':\n",
    "        return '2월'\n",
    "    elif i == '03':\n",
    "        return '3월'\n",
    "    elif i == '04':\n",
    "        return '4월'\n",
    "    elif i == '05':\n",
    "        return '5월'\n",
    "    elif i == '06':\n",
    "        return '6월'\n",
    "    elif i == '07':\n",
    "        return '7월'\n",
    "    elif i == '08':\n",
    "        return '8월'\n",
    "    elif i == '09':\n",
    "        return '9월'\n",
    "    elif i == '10':\n",
    "        return '10월'\n",
    "    elif i == '11':\n",
    "        return '11월'\n",
    "    else:\n",
    "        return '12월'\n",
    "data_set[\"openDt\"] = data_set[\"openDt\"].apply(month_change)    "
   ]
  },
  {
   "cell_type": "code",
   "execution_count": 57,
   "metadata": {
    "collapsed": true
   },
   "outputs": [],
   "source": [
    "def grade_change(i):\n",
    "    if i == '연소자관람가' or i == \"모든 관람객이 관람할 수 있는 등급\":\n",
    "        return '전체관람가'\n",
    "    elif i == '12세관람가' or i == '국민학생관람불가' or i == '연소자관람불가' or i == '중학생이상관람가' or i == 'nan':\n",
    "        return '12세이상관람가'\n",
    "    elif i == '15세관람가' or i == '15세 미만인 자는 관람할 수 없는 등급 ' or i == '고등학생이상관람가':\n",
    "        return '15세이상관람가'\n",
    "    elif i == '18세관람가':\n",
    "        return '청소년관람불가'\n",
    "    else:\n",
    "        return i\n",
    "data_set[\"watchGradeNm\"] = data_set[\"watchGradeNm\"].apply(grade_change)"
   ]
  },
  {
   "cell_type": "code",
   "execution_count": 59,
   "metadata": {
    "collapsed": false
   },
   "outputs": [],
   "source": [
    "def time_change(i):\n",
    "    if i < 90:\n",
    "        return '-90'\n",
    "    elif i >= 90 and i < 120:\n",
    "        return '90-120'\n",
    "    elif i >=120 and i < 150:\n",
    "        return '120-150'\n",
    "    else:\n",
    "        return '150+'\n",
    "\n",
    "data_set[\"showTm\"] = data_set[\"showTm\"].apply(time_change)"
   ]
  },
  {
   "cell_type": "code",
   "execution_count": 60,
   "metadata": {
    "collapsed": false
   },
   "outputs": [],
   "source": [
    "def nation_change(i):\n",
    "    if i == '중국' or i == '홍콩' or i == '대만':\n",
    "        return '중국/홍콩/대만'\n",
    "    elif i == '아이슬란드' or i == '우크라이나' or i == '체코' or i == '노르웨이' or i == ' 오스트리아' or i == '덴마크' or i == '러시아' or i == '이탈리아' or i == '벨기에' or i == '네덜란드' or i == '스페인' or i == '핀란드' or i == '스웨덴' or i == '스위스' or i == '영국' or i == '프랑스' or i == '헝가리' or i == '독일' or i == '아일랜드':\n",
    "        return '유럽'\n",
    "    elif i == '태국' or i == '싱가포르' or i == '호주' or i == '캐나다' or i == '페루' or i == '멕시코' or i == '이스라엘' or i == '뉴질랜드' or i == '아르헨티나' or i == '이란' or i == '남아프리카공화국' or i == '인도네시아' or i == '인도':\n",
    "        return '기타국가'\n",
    "    else:\n",
    "        return i\n",
    "    \n",
    "data_set[\"repNationNm\"] = data_set[\"repNationNm\"].apply(nation_change)"
   ]
  },
  {
   "cell_type": "code",
   "execution_count": 61,
   "metadata": {
    "collapsed": false
   },
   "outputs": [],
   "source": [
    "def genre_change(i):\n",
    "    if i == '드라마' or i == '멜로/로맨스':\n",
    "        return 'drama/romance'\n",
    "    elif i == '전쟁' or i == '액션':\n",
    "        return 'war/action'\n",
    "    elif i == '공포(호러)' or i == '미스터리':\n",
    "        return 'horror/mystery'\n",
    "    elif i == '범죄' or i == '스릴러':\n",
    "        return 'crime/thriller'\n",
    "    elif i == 'SF' or i == '판타지' or i == '어드벤처':\n",
    "        return 'SF/fantasy/adventure'\n",
    "    elif i == '애니메이션' or i == '가족':\n",
    "        return 'family/animation'\n",
    "    elif i == '코미디':\n",
    "        return 'comedy'\n",
    "    elif i == '다큐멘터리':\n",
    "        return 'documentary'\n",
    "    elif i == '공연' or i == '뮤지컬':\n",
    "        return 'performance/musical'\n",
    "    elif i == '사극' or i == '서부극(웨스턴)':\n",
    "        return 'historical'\n",
    "    else:\n",
    "        return i\n",
    "    \n",
    "data_set[\"repGenreNm\"] = data_set[\"repGenreNm\"].apply(genre_change)"
   ]
  },
  {
   "cell_type": "code",
   "execution_count": 62,
   "metadata": {
    "collapsed": false
   },
   "outputs": [],
   "source": [
    "def company_change(i):\n",
    "    if i == '소니픽쳐스릴리징월트디즈니스튜디오스코리아(주)' or i == '월트디즈니' or i == '월트디즈니컴퍼니코리아(주)' or i == '월트디즈니코리아㈜':\n",
    "        return '월트디즈니컴퍼니코리아(주)'\n",
    "    elif i == '이십세기폭스코리아(주)':\n",
    "        return '이십세기폭스코리아(주)'\n",
    "    elif i == '씨제이이앤엠(주)':\n",
    "        return '씨제이이앤엠(주)'\n",
    "    elif i == '(주)쇼박스':\n",
    "        return '(주)쇼박스'\n",
    "    elif i == '워너 브러더스 픽쳐스' or i == '워너브러더스 코리아(주)':\n",
    "        return '워너브러더스 코리아(주)'\n",
    "    elif i == '㈜메가박스' or i == '메가박스(주)플러스엠':\n",
    "        return '메가박스(주)플러스엠'\n",
    "    elif i == '유니버셜 픽쳐스' or i == '유니버설픽쳐스인터내셔널 코리아(유)':\n",
    "        return '유니버설픽쳐스인터내셔널 코리아(유)'\n",
    "    elif i == '(주)넥스트엔터테인먼트월드(NEW)':\n",
    "        return '(주)넥스트엔터테인먼트월드(NEW)'\n",
    "    elif i == '(주)와우픽쳐스':\n",
    "        return '(주)와우픽쳐스'\n",
    "    elif i == '롯데쇼핑㈜롯데엔터테인먼트':\n",
    "        return '롯데쇼핑㈜롯데엔터테인먼트'\n",
    "    else:\n",
    "        return '기타배급사'\n",
    "data_set[\"companyNm\"] = data_set[\"companyNm\"].apply(company_change)"
   ]
  },
  {
   "cell_type": "markdown",
   "metadata": {},
   "source": [
    "### data_set to csv"
   ]
  },
  {
   "cell_type": "code",
   "execution_count": null,
   "metadata": {
    "collapsed": true
   },
   "outputs": [],
   "source": [
    "data_set.to_csv(\"data_cate_set.csv\",encoding=\"utf-8\")"
   ]
  },
  {
   "cell_type": "markdown",
   "metadata": {},
   "source": [
    "## 카테고리 데이터 구성"
   ]
  },
  {
   "cell_type": "code",
   "execution_count": 64,
   "metadata": {
    "collapsed": true
   },
   "outputs": [],
   "source": [
    "nation = data_set[\"repNationNm\"]\n",
    "openDt = data_set[\"openDt\"]\n",
    "genre = data_set[\"repGenreNm\"]\n",
    "showTm = data_set[\"showTm\"]\n",
    "grade = data_set[\"watchGradeNm\"]\n",
    "company = data_set[\"companyNm\"]"
   ]
  },
  {
   "cell_type": "code",
   "execution_count": 67,
   "metadata": {
    "collapsed": true
   },
   "outputs": [],
   "source": [
    "ohe = OneHotEncoder()\n",
    "le = LabelEncoder()"
   ]
  },
  {
   "cell_type": "code",
   "execution_count": 72,
   "metadata": {
    "collapsed": true
   },
   "outputs": [],
   "source": [
    "le.fit(nation)\n",
    "nation = le.transform(nation)\n",
    "nation_df = pd.DataFrame(ohe.fit_transform(nation[:, np.newaxis]).toarray(), columns=le.classes_)"
   ]
  },
  {
   "cell_type": "code",
   "execution_count": 73,
   "metadata": {
    "collapsed": true
   },
   "outputs": [],
   "source": [
    "le.fit(openDt)\n",
    "openDt = le.transform(openDt)\n",
    "openDt_df = pd.DataFrame(ohe.fit_transform(openDt[:, np.newaxis]).toarray(), columns=le.classes_)"
   ]
  },
  {
   "cell_type": "code",
   "execution_count": 74,
   "metadata": {
    "collapsed": true
   },
   "outputs": [],
   "source": [
    "le.fit(genre)\n",
    "genre = le.transform(genre)\n",
    "genre_df = pd.DataFrame(ohe.fit_transform(genre[:, np.newaxis]).toarray(), columns=le.classes_)"
   ]
  },
  {
   "cell_type": "code",
   "execution_count": 75,
   "metadata": {
    "collapsed": true
   },
   "outputs": [],
   "source": [
    "le.fit(showTm)\n",
    "showTm = le.transform(showTm)\n",
    "showTm_df = pd.DataFrame(ohe.fit_transform(showTm[:, np.newaxis]).toarray(), columns=le.classes_)"
   ]
  },
  {
   "cell_type": "code",
   "execution_count": 76,
   "metadata": {
    "collapsed": true
   },
   "outputs": [],
   "source": [
    "le.fit(grade)\n",
    "grade = le.transform(grade)\n",
    "grade_df = pd.DataFrame(ohe.fit_transform(grade[:, np.newaxis]).toarray(), columns=le.classes_)"
   ]
  },
  {
   "cell_type": "code",
   "execution_count": 77,
   "metadata": {
    "collapsed": true
   },
   "outputs": [],
   "source": [
    "le.fit(company)\n",
    "company = le.transform(company)\n",
    "company_df = pd.DataFrame(ohe.fit_transform(company[:, np.newaxis]).toarray(), columns=le.classes_)"
   ]
  },
  {
   "cell_type": "markdown",
   "metadata": {},
   "source": [
    "### category_df to csv"
   ]
  },
  {
   "cell_type": "code",
   "execution_count": 78,
   "metadata": {
    "collapsed": true
   },
   "outputs": [],
   "source": [
    "nation_df.to_csv(\"nation.csv\",encoding=\"utf-8\")\n",
    "openDt_df.to_csv(\"openDt.csv\",encoding=\"utf-8\")\n",
    "genre_df.to_csv(\"genre.csv\",encoding=\"utf-8\")\n",
    "showTm_df.to_csv(\"showTm.csv\",encoding=\"utf-8\")\n",
    "grade_df.to_csv(\"grade.csv\",encoding=\"utf-8\")\n",
    "company_df.to_csv(\"company.csv\",encoding=\"utf-8\")"
   ]
  },
  {
   "cell_type": "code",
   "execution_count": null,
   "metadata": {
    "collapsed": true
   },
   "outputs": [],
   "source": []
  }
 ],
 "metadata": {
  "kernelspec": {
   "display_name": "Python 3",
   "language": "python",
   "name": "python3"
  },
  "language_info": {
   "codemirror_mode": {
    "name": "ipython",
    "version": 3
   },
   "file_extension": ".py",
   "mimetype": "text/x-python",
   "name": "python",
   "nbconvert_exporter": "python",
   "pygments_lexer": "ipython3",
   "version": "3.5.1"
  }
 },
 "nbformat": 4,
 "nbformat_minor": 0
}

{
 "cells": [
  {
   "cell_type": "markdown",
   "metadata": {},
   "source": [
    "## import package"
   ]
  },
  {
   "cell_type": "code",
   "execution_count": 6,
   "metadata": {
    "collapsed": false
   },
   "outputs": [],
   "source": [
    "import pandas as pd\n",
    "import numpy as np\n",
    "import scipy as sp\n",
    "import statsmodels.api as sm\n",
    "import statsmodels.formula.api as smf\n",
    "import matplotlib.pyplot as plt\n",
    "from sklearn.preprocessing import StandardScaler\n",
    "from sklearn.linear_model import LinearRegression\n",
    "from sklearn.cross_validation import cross_val_score"
   ]
  },
  {
   "cell_type": "markdown",
   "metadata": {},
   "source": [
    "## 모델링"
   ]
  },
  {
   "cell_type": "code",
   "execution_count": 7,
   "metadata": {
    "collapsed": false
   },
   "outputs": [],
   "source": [
    "data = pd.read_csv(\"data.csv\", index_col=0)"
   ]
  },
  {
   "cell_type": "code",
   "execution_count": 8,
   "metadata": {
    "collapsed": false
   },
   "outputs": [],
   "source": [
    "dd_set = pd.read_csv(\"value_data.csv\", index_col=0)"
   ]
  },
  {
   "cell_type": "code",
   "execution_count": 9,
   "metadata": {
    "collapsed": false
   },
   "outputs": [],
   "source": [
    "modeling_data = pd.concat([dd_set,pusan[\"audience\"]],axis=1)"
   ]
  },
  {
   "cell_type": "code",
   "execution_count": 8,
   "metadata": {
    "collapsed": true
   },
   "outputs": [],
   "source": [
    "from sklearn.cross_validation import train_test_split\n",
    "X = d_df.ix[:,:-1]\n",
    "y = d_df.ix[:,-1]\n",
    "X_train, X_test, y_train, y_test = train_test_split(X, y, test_size=0.25, random_state=0)"
   ]
  },
  {
   "cell_type": "markdown",
   "metadata": {},
   "source": [
    "### scaling"
   ]
  },
  {
   "cell_type": "code",
   "execution_count": 10,
   "metadata": {
    "collapsed": false
   },
   "outputs": [
    {
     "data": {
      "text/html": [
       "<div>\n",
       "<table border=\"1\" class=\"dataframe\">\n",
       "  <thead>\n",
       "    <tr style=\"text-align: right;\">\n",
       "      <th></th>\n",
       "      <th>const</th>\n",
       "      <th>star_score</th>\n",
       "      <th>star_user_count</th>\n",
       "      <th>preview_audience</th>\n",
       "      <th>d1_audience</th>\n",
       "      <th>d2_audience</th>\n",
       "      <th>d3_audience</th>\n",
       "      <th>d4_audience</th>\n",
       "      <th>d5_audience</th>\n",
       "      <th>d6_audience</th>\n",
       "      <th>...</th>\n",
       "      <th>director_score</th>\n",
       "      <th>openDt_score</th>\n",
       "      <th>prdtYear_score</th>\n",
       "      <th>repNationNm_score</th>\n",
       "      <th>repGenreNm_score</th>\n",
       "      <th>showTm_score</th>\n",
       "      <th>watchGradeNm_score</th>\n",
       "      <th>companyNm_score</th>\n",
       "      <th>actor_score</th>\n",
       "      <th>audience</th>\n",
       "    </tr>\n",
       "  </thead>\n",
       "  <tbody>\n",
       "    <tr>\n",
       "      <th>0</th>\n",
       "      <td>1</td>\n",
       "      <td>5.165409</td>\n",
       "      <td>6.024855</td>\n",
       "      <td>20.132783</td>\n",
       "      <td>12.529761</td>\n",
       "      <td>8.952661</td>\n",
       "      <td>6.952879</td>\n",
       "      <td>10.178584</td>\n",
       "      <td>11.986602</td>\n",
       "      <td>7.864063</td>\n",
       "      <td>...</td>\n",
       "      <td>3.692705</td>\n",
       "      <td>8.965175</td>\n",
       "      <td>53.770127</td>\n",
       "      <td>5.504568</td>\n",
       "      <td>5.922087</td>\n",
       "      <td>2.965495</td>\n",
       "      <td>6.860528</td>\n",
       "      <td>9.22579</td>\n",
       "      <td>4.102023</td>\n",
       "      <td>10000000</td>\n",
       "    </tr>\n",
       "    <tr>\n",
       "      <th>1</th>\n",
       "      <td>1</td>\n",
       "      <td>6.045162</td>\n",
       "      <td>0.089715</td>\n",
       "      <td>1.569613</td>\n",
       "      <td>0.908939</td>\n",
       "      <td>1.092294</td>\n",
       "      <td>1.035044</td>\n",
       "      <td>0.872675</td>\n",
       "      <td>0.709429</td>\n",
       "      <td>1.084083</td>\n",
       "      <td>...</td>\n",
       "      <td>4.615881</td>\n",
       "      <td>6.275622</td>\n",
       "      <td>7.527818</td>\n",
       "      <td>5.504568</td>\n",
       "      <td>5.922087</td>\n",
       "      <td>5.018530</td>\n",
       "      <td>6.860528</td>\n",
       "      <td>9.22579</td>\n",
       "      <td>6.927862</td>\n",
       "      <td>11746135</td>\n",
       "    </tr>\n",
       "    <tr>\n",
       "      <th>2</th>\n",
       "      <td>1</td>\n",
       "      <td>5.774952</td>\n",
       "      <td>0.024468</td>\n",
       "      <td>2.115207</td>\n",
       "      <td>1.127252</td>\n",
       "      <td>1.625217</td>\n",
       "      <td>1.047703</td>\n",
       "      <td>0.379298</td>\n",
       "      <td>0.645025</td>\n",
       "      <td>1.901691</td>\n",
       "      <td>...</td>\n",
       "      <td>3.692705</td>\n",
       "      <td>6.723881</td>\n",
       "      <td>7.527818</td>\n",
       "      <td>4.345712</td>\n",
       "      <td>9.475339</td>\n",
       "      <td>5.018530</td>\n",
       "      <td>6.860528</td>\n",
       "      <td>9.22579</td>\n",
       "      <td>2.795453</td>\n",
       "      <td>3851000</td>\n",
       "    </tr>\n",
       "    <tr>\n",
       "      <th>3</th>\n",
       "      <td>1</td>\n",
       "      <td>5.027162</td>\n",
       "      <td>0.041944</td>\n",
       "      <td>0.001637</td>\n",
       "      <td>1.594698</td>\n",
       "      <td>2.472352</td>\n",
       "      <td>1.590335</td>\n",
       "      <td>0.525930</td>\n",
       "      <td>0.668255</td>\n",
       "      <td>0.931532</td>\n",
       "      <td>...</td>\n",
       "      <td>2.492576</td>\n",
       "      <td>5.827364</td>\n",
       "      <td>7.527818</td>\n",
       "      <td>5.504568</td>\n",
       "      <td>4.145461</td>\n",
       "      <td>2.965495</td>\n",
       "      <td>7.718094</td>\n",
       "      <td>9.22579</td>\n",
       "      <td>2.673912</td>\n",
       "      <td>2565078</td>\n",
       "    </tr>\n",
       "    <tr>\n",
       "      <th>4</th>\n",
       "      <td>1</td>\n",
       "      <td>5.529878</td>\n",
       "      <td>0.011651</td>\n",
       "      <td>2.052916</td>\n",
       "      <td>1.119080</td>\n",
       "      <td>2.066098</td>\n",
       "      <td>1.368008</td>\n",
       "      <td>0.364201</td>\n",
       "      <td>0.444356</td>\n",
       "      <td>0.652679</td>\n",
       "      <td>...</td>\n",
       "      <td>1.477082</td>\n",
       "      <td>6.723881</td>\n",
       "      <td>7.527818</td>\n",
       "      <td>5.504568</td>\n",
       "      <td>4.145461</td>\n",
       "      <td>5.018530</td>\n",
       "      <td>7.718094</td>\n",
       "      <td>9.22579</td>\n",
       "      <td>1.975048</td>\n",
       "      <td>2890000</td>\n",
       "    </tr>\n",
       "  </tbody>\n",
       "</table>\n",
       "<p>5 rows × 42 columns</p>\n",
       "</div>"
      ],
      "text/plain": [
       "   const  star_score  star_user_count  preview_audience  d1_audience  \\\n",
       "0      1    5.165409         6.024855         20.132783    12.529761   \n",
       "1      1    6.045162         0.089715          1.569613     0.908939   \n",
       "2      1    5.774952         0.024468          2.115207     1.127252   \n",
       "3      1    5.027162         0.041944          0.001637     1.594698   \n",
       "4      1    5.529878         0.011651          2.052916     1.119080   \n",
       "\n",
       "   d2_audience  d3_audience  d4_audience  d5_audience  d6_audience    ...     \\\n",
       "0     8.952661     6.952879    10.178584    11.986602     7.864063    ...      \n",
       "1     1.092294     1.035044     0.872675     0.709429     1.084083    ...      \n",
       "2     1.625217     1.047703     0.379298     0.645025     1.901691    ...      \n",
       "3     2.472352     1.590335     0.525930     0.668255     0.931532    ...      \n",
       "4     2.066098     1.368008     0.364201     0.444356     0.652679    ...      \n",
       "\n",
       "   director_score  openDt_score  prdtYear_score  repNationNm_score  \\\n",
       "0        3.692705      8.965175       53.770127           5.504568   \n",
       "1        4.615881      6.275622        7.527818           5.504568   \n",
       "2        3.692705      6.723881        7.527818           4.345712   \n",
       "3        2.492576      5.827364        7.527818           5.504568   \n",
       "4        1.477082      6.723881        7.527818           5.504568   \n",
       "\n",
       "   repGenreNm_score  showTm_score  watchGradeNm_score  companyNm_score  \\\n",
       "0          5.922087      2.965495            6.860528          9.22579   \n",
       "1          5.922087      5.018530            6.860528          9.22579   \n",
       "2          9.475339      5.018530            6.860528          9.22579   \n",
       "3          4.145461      2.965495            7.718094          9.22579   \n",
       "4          4.145461      5.018530            7.718094          9.22579   \n",
       "\n",
       "   actor_score  audience  \n",
       "0     4.102023  10000000  \n",
       "1     6.927862  11746135  \n",
       "2     2.795453   3851000  \n",
       "3     2.673912   2565078  \n",
       "4     1.975048   2890000  \n",
       "\n",
       "[5 rows x 42 columns]"
      ]
     },
     "execution_count": 10,
     "metadata": {},
     "output_type": "execute_result"
    }
   ],
   "source": [
    "X = modeling_data.ix[:,:-1]\n",
    "scaler = StandardScaler(with_mean=False)\n",
    "X_scaled = scaler.fit_transform(X)\n",
    "\n",
    "dfX0 = pd.DataFrame(X_scaled, columns=X.columns)\n",
    "dfX = sm.add_constant(dfX0)\n",
    "dfy = pd.DataFrame(modeling_data.ix[:,-1], columns=[\"audience\"])\n",
    "d_df = pd.concat([dfX, dfy], axis=1)\n",
    "d_df.head()"
   ]
  },
  {
   "cell_type": "code",
   "execution_count": 11,
   "metadata": {
    "collapsed": false
   },
   "outputs": [],
   "source": [
    "d_df = d_df[[\"const\",\"star_score\",\"preview_audience\",\"d1_audience\",\"d3_audience\",\"d4_audience\",\"d5_audience\",\"d6_audience\",\"d1_screen\",\"d4_screen\",\"d7_screen\",\"d2_seat\",\"d7_seat\",\"director_score\",\"actor_score\",\"audience\"]]"
   ]
  },
  {
   "cell_type": "markdown",
   "metadata": {},
   "source": [
    "### Summary OLS"
   ]
  },
  {
   "cell_type": "code",
   "execution_count": 12,
   "metadata": {
    "collapsed": false
   },
   "outputs": [
    {
     "name": "stdout",
     "output_type": "stream",
     "text": [
      "                            OLS Regression Results                            \n",
      "==============================================================================\n",
      "Dep. Variable:               audience   R-squared:                       0.865\n",
      "Model:                            OLS   Adj. R-squared:                  0.865\n",
      "Method:                 Least Squares   F-statistic:                     1186.\n",
      "Date:                Fri, 05 Aug 2016   Prob (F-statistic):               0.00\n",
      "Time:                        02:40:07   Log-Likelihood:                -38420.\n",
      "No. Observations:                2599   AIC:                         7.687e+04\n",
      "Df Residuals:                    2585   BIC:                         7.695e+04\n",
      "Df Model:                          14                                         \n",
      "Covariance Type:            nonrobust                                         \n",
      "====================================================================================\n",
      "                       coef    std err          t      P>|t|      [95.0% Conf. Int.]\n",
      "------------------------------------------------------------------------------------\n",
      "star_score       -1.132e+05   5010.461    -22.596      0.000     -1.23e+05 -1.03e+05\n",
      "preview_audience    6.5e+04   1.38e+04      4.719      0.000       3.8e+04   9.2e+04\n",
      "d1_audience      -1.309e+05   3.26e+04     -4.021      0.000     -1.95e+05 -6.71e+04\n",
      "d3_audience       4.237e+05    6.1e+04      6.944      0.000      3.04e+05  5.43e+05\n",
      "d4_audience       1.432e+05   8.67e+04      1.652      0.099     -2.68e+04  3.13e+05\n",
      "d5_audience       3.668e+05   5.81e+04      6.312      0.000      2.53e+05  4.81e+05\n",
      "d6_audience       9.863e+04   2.94e+04      3.361      0.001      4.11e+04  1.56e+05\n",
      "d1_screen        -7.365e+05   7.42e+04     -9.929      0.000     -8.82e+05 -5.91e+05\n",
      "d4_screen          5.44e+05   8.65e+04      6.292      0.000      3.75e+05  7.14e+05\n",
      "d7_screen         2.289e+05   5.59e+04      4.091      0.000      1.19e+05  3.39e+05\n",
      "d2_seat           4.257e+04   1.65e+04      2.586      0.010      1.03e+04  7.48e+04\n",
      "d7_seat           9.726e+04   1.59e+04      6.117      0.000      6.61e+04  1.28e+05\n",
      "director_score    3.507e+05   1.94e+04     18.119      0.000      3.13e+05  3.89e+05\n",
      "actor_score       2.233e+05   1.76e+04     12.720      0.000      1.89e+05  2.58e+05\n",
      "==============================================================================\n",
      "Omnibus:                     2508.996   Durbin-Watson:                   1.802\n",
      "Prob(Omnibus):                  0.000   Jarque-Bera (JB):           307744.680\n",
      "Skew:                           4.245   Prob(JB):                         0.00\n",
      "Kurtosis:                      55.628   Cond. No.                         63.4\n",
      "==============================================================================\n",
      "\n",
      "Warnings:\n",
      "[1] Standard Errors assume that the covariance matrix of the errors is correctly specified.\n"
     ]
    }
   ],
   "source": [
    "model = sm.OLS(d_df.ix[:,-1],d_df.ix[:,1:-1])\n",
    "result = model.fit()\n",
    "print(result.summary())"
   ]
  },
  {
   "cell_type": "code",
   "execution_count": 9,
   "metadata": {
    "collapsed": false,
    "scrolled": false
   },
   "outputs": [
    {
     "name": "stdout",
     "output_type": "stream",
     "text": [
      "                            OLS Regression Results                            \n",
      "==============================================================================\n",
      "Dep. Variable:               audience   R-squared:                       0.866\n",
      "Model:                            OLS   Adj. R-squared:                  0.863\n",
      "Method:                 Least Squares   F-statistic:                     308.3\n",
      "Date:                Mon, 01 Aug 2016   Prob (F-statistic):               0.00\n",
      "Time:                        04:49:57   Log-Likelihood:                -28554.\n",
      "No. Observations:                1949   AIC:                         5.719e+04\n",
      "Df Residuals:                    1908   BIC:                         5.742e+04\n",
      "Df Model:                          40                                         \n",
      "Covariance Type:            nonrobust                                         \n",
      "======================================================================================\n",
      "                         coef    std err          t      P>|t|      [95.0% Conf. Int.]\n",
      "--------------------------------------------------------------------------------------\n",
      "const               -1.32e+05   2.42e+05     -0.546      0.585     -6.06e+05  3.42e+05\n",
      "star_score           3.28e+04   1.34e+04      2.445      0.015      6491.826  5.91e+04\n",
      "star_user_count     3.433e+04   1.44e+04      2.392      0.017      6178.559  6.25e+04\n",
      "preview_audience    -3.45e+04    1.3e+04     -2.646      0.008     -6.01e+04 -8929.349\n",
      "d1_audience        -2.459e+05   4.89e+04     -5.032      0.000     -3.42e+05  -1.5e+05\n",
      "d2_audience        -2.666e+04    5.4e+04     -0.494      0.621     -1.32e+05  7.92e+04\n",
      "d3_audience          3.39e+05   9.03e+04      3.755      0.000      1.62e+05  5.16e+05\n",
      "d4_audience         3.837e+05   1.19e+05      3.219      0.001       1.5e+05  6.17e+05\n",
      "d5_audience          4.12e+05   8.38e+04      4.919      0.000      2.48e+05  5.76e+05\n",
      "d6_audience         1.479e+05    5.4e+04      2.739      0.006       4.2e+04  2.54e+05\n",
      "d7_audience         2.402e+05   4.11e+04      5.838      0.000       1.6e+05  3.21e+05\n",
      "d1_screen           3.509e+04   2.13e+05      0.165      0.869     -3.83e+05  4.53e+05\n",
      "d2_screen          -2.297e+04   3.09e+05     -0.074      0.941      -6.3e+05  5.84e+05\n",
      "d3_screen           1.331e+05   3.19e+05      0.418      0.676     -4.92e+05  7.58e+05\n",
      "d4_screen           7.235e+05   2.98e+05      2.429      0.015      1.39e+05  1.31e+06\n",
      "d5_screen          -3.162e+04   3.15e+05     -0.100      0.920     -6.49e+05  5.86e+05\n",
      "d6_screen          -6.967e+05   2.67e+05     -2.610      0.009     -1.22e+06 -1.73e+05\n",
      "d7_screen           2.154e+05   7.42e+04      2.905      0.004         7e+04  3.61e+05\n",
      "d1_show             4.368e+04   1.91e+05      0.229      0.819     -3.31e+05  4.18e+05\n",
      "d2_show            -5.955e+05    3.4e+05     -1.751      0.080     -1.26e+06  7.15e+04\n",
      "d3_show             7.559e+05   4.51e+05      1.678      0.094     -1.28e+05  1.64e+06\n",
      "d4_show            -1.563e+06   4.58e+05     -3.415      0.001     -2.46e+06 -6.65e+05\n",
      "d5_show            -1334.7594   3.83e+05     -0.003      0.997     -7.52e+05  7.49e+05\n",
      "d6_show             1.048e+06   2.69e+05      3.897      0.000       5.2e+05  1.57e+06\n",
      "d7_show            -1.288e+05   4.33e+04     -2.972      0.003     -2.14e+05 -4.38e+04\n",
      "d1_seat              8.73e+04   2.86e+04      3.056      0.002      3.13e+04  1.43e+05\n",
      "d2_seat             1.096e+05   3.34e+04      3.276      0.001       4.4e+04  1.75e+05\n",
      "d3_seat             2.401e+04   4.12e+04      0.582      0.561     -5.69e+04  1.05e+05\n",
      "d4_seat            -6.634e+04   4.18e+04     -1.586      0.113     -1.48e+05  1.57e+04\n",
      "d5_seat            -6.563e+04   3.83e+04     -1.712      0.087     -1.41e+05  9554.530\n",
      "d6_seat            -2.985e+04   3.03e+04     -0.984      0.325     -8.93e+04  2.96e+04\n",
      "d7_seat             4.292e+04   2.46e+04      1.746      0.081     -5290.363  9.11e+04\n",
      "director_score      3.324e+05   2.22e+04     14.957      0.000      2.89e+05  3.76e+05\n",
      "openDt_score       -6226.6057   1.41e+04     -0.441      0.659     -3.39e+04  2.15e+04\n",
      "prdtYear_score     -3.114e+04   1.28e+04     -2.439      0.015     -5.62e+04 -6099.692\n",
      "repNationNm_score  -4.314e+04   1.56e+04     -2.769      0.006     -7.37e+04 -1.26e+04\n",
      "repGenreNm_score   -1.339e+04   1.53e+04     -0.878      0.380     -4.33e+04  1.65e+04\n",
      "showTm_score       -1.136e+04   1.47e+04     -0.774      0.439     -4.02e+04  1.74e+04\n",
      "watchGradeNm_score  3.696e+04   1.39e+04      2.651      0.008      9617.106  6.43e+04\n",
      "companyNm_score    -2.613e+04   1.28e+04     -2.040      0.041     -5.13e+04 -1012.123\n",
      "actor_score         2.029e+05   1.96e+04     10.364      0.000      1.65e+05  2.41e+05\n",
      "==============================================================================\n",
      "Omnibus:                     2024.882   Durbin-Watson:                   1.879\n",
      "Prob(Omnibus):                  0.000   Jarque-Bera (JB):           285474.545\n",
      "Skew:                           4.733   Prob(JB):                         0.00\n",
      "Kurtosis:                      61.530   Cond. No.                     1.15e+03\n",
      "==============================================================================\n",
      "\n",
      "Warnings:\n",
      "[1] Standard Errors assume that the covariance matrix of the errors is correctly specified.\n",
      "[2] The condition number is large, 1.15e+03. This might indicate that there are\n",
      "strong multicollinearity or other numerical problems.\n"
     ]
    }
   ],
   "source": [
    "model = sm.OLS(y_train,X_train)\n",
    "result = model.fit()\n",
    "print(result.summary())"
   ]
  },
  {
   "cell_type": "code",
   "execution_count": 7,
   "metadata": {
    "collapsed": false
   },
   "outputs": [
    {
     "name": "stdout",
     "output_type": "stream",
     "text": [
      "                            OLS Regression Results                            \n",
      "==============================================================================\n",
      "Dep. Variable:               audience   R-squared:                       0.879\n",
      "Model:                            OLS   Adj. R-squared:                  0.877\n",
      "Method:                 Least Squares   F-statistic:                     562.8\n",
      "Date:                Mon, 01 Aug 2016   Prob (F-statistic):               0.00\n",
      "Time:                        05:38:19   Log-Likelihood:                -38285.\n",
      "No. Observations:                2599   AIC:                         7.664e+04\n",
      "Df Residuals:                    2566   BIC:                         7.683e+04\n",
      "Df Model:                          33                                         \n",
      "Covariance Type:            nonrobust                                         \n",
      "======================================================================================\n",
      "                         coef    std err          t      P>|t|      [95.0% Conf. Int.]\n",
      "--------------------------------------------------------------------------------------\n",
      "star_score          1.988e+04   1.16e+04      1.707      0.088     -2961.434  4.27e+04\n",
      "star_user_count     2.854e+04   1.37e+04      2.077      0.038      1594.115  5.55e+04\n",
      "preview_audience     7.39e+04   1.38e+04      5.338      0.000      4.68e+04  1.01e+05\n",
      "d1_audience        -2.222e+05   4.47e+04     -4.969      0.000      -3.1e+05 -1.35e+05\n",
      "d2_audience         4.986e+04   4.37e+04      1.141      0.254     -3.58e+04  1.36e+05\n",
      "d3_audience         2.932e+05   6.41e+04      4.575      0.000      1.68e+05  4.19e+05\n",
      "d4_audience         3.149e+05   9.49e+04      3.316      0.001      1.29e+05  5.01e+05\n",
      "d5_audience         3.699e+05   6.69e+04      5.532      0.000      2.39e+05  5.01e+05\n",
      "d6_audience         8.558e+04   4.43e+04      1.931      0.054     -1340.034  1.72e+05\n",
      "d7_audience         -5.19e+04   3.05e+04     -1.700      0.089     -1.12e+05  7960.519\n",
      "d1_screen          -6.441e+05   1.57e+05     -4.106      0.000     -9.52e+05 -3.37e+05\n",
      "d4_screen           1.015e+06    1.7e+05      5.965      0.000      6.81e+05  1.35e+06\n",
      "d5_screen           3.938e+05   2.02e+05      1.953      0.051     -1691.347  7.89e+05\n",
      "d6_screen          -6.719e+05   2.16e+05     -3.105      0.002      -1.1e+06 -2.48e+05\n",
      "d7_screen           2.088e+05   6.47e+04      3.229      0.001       8.2e+04  3.36e+05\n",
      "d1_show             3.491e+05   1.54e+05      2.267      0.023      4.72e+04  6.51e+05\n",
      "d2_show            -7.107e+05   2.03e+05     -3.495      0.000     -1.11e+06 -3.12e+05\n",
      "d3_show             6.781e+05   2.86e+05      2.372      0.018      1.18e+05  1.24e+06\n",
      "d4_show            -1.377e+06   2.82e+05     -4.892      0.000     -1.93e+06 -8.25e+05\n",
      "d6_show             8.448e+05   1.87e+05      4.515      0.000      4.78e+05  1.21e+06\n",
      "d1_seat             6.283e+04   2.45e+04      2.561      0.010      1.47e+04  1.11e+05\n",
      "d2_seat              4.78e+04   2.48e+04      1.929      0.054      -777.675  9.64e+04\n",
      "d4_seat            -4.579e+04   2.53e+04     -1.809      0.071     -9.54e+04  3856.702\n",
      "d5_seat            -6.074e+04    2.9e+04     -2.092      0.037     -1.18e+05 -3799.721\n",
      "d6_seat             4.269e+04   2.56e+04      1.668      0.095     -7503.262  9.29e+04\n",
      "d7_seat              1.06e+05    2.1e+04      5.045      0.000      6.48e+04  1.47e+05\n",
      "director_score      3.798e+05   1.91e+04     19.882      0.000      3.42e+05  4.17e+05\n",
      "prdtYear_score     -5.069e+04   1.15e+04     -4.403      0.000     -7.33e+04 -2.81e+04\n",
      "repNationNm_score  -7.262e+04   1.39e+04     -5.224      0.000     -9.99e+04 -4.54e+04\n",
      "repGenreNm_score    5314.6032   1.32e+04      0.404      0.686     -2.05e+04  3.11e+04\n",
      "watchGradeNm_score  2.349e+04   1.19e+04      1.972      0.049       131.640  4.68e+04\n",
      "companyNm_score    -3.784e+04   1.07e+04     -3.538      0.000     -5.88e+04 -1.69e+04\n",
      "actor_score         2.644e+05   1.77e+04     14.902      0.000       2.3e+05  2.99e+05\n",
      "==============================================================================\n",
      "Omnibus:                     2417.747   Durbin-Watson:                   1.783\n",
      "Prob(Omnibus):                  0.000   Jarque-Bera (JB):           258433.705\n",
      "Skew:                           4.028   Prob(JB):                         0.00\n",
      "Kurtosis:                      51.183   Cond. No.                         607.\n",
      "==============================================================================\n",
      "\n",
      "Warnings:\n",
      "[1] Standard Errors assume that the covariance matrix of the errors is correctly specified.\n"
     ]
    }
   ],
   "source": [
    "remove_column_list = [\"d2_screen\",\"d3_screen\",\"d5_show\",\"d7_show\", \"showTm_score\",\"d3_seat\",\"openDt_score\"]\n",
    "d_df = d_df.drop(remove_column_list, axis=1)\n",
    "\n",
    "model = sm.OLS(d_df.ix[:, -1], d_df.ix[:, 1:-1])\n",
    "result = model.fit()\n",
    "print(result.summary())"
   ]
  },
  {
   "cell_type": "code",
   "execution_count": 8,
   "metadata": {
    "collapsed": false
   },
   "outputs": [
    {
     "name": "stdout",
     "output_type": "stream",
     "text": [
      "                            OLS Regression Results                            \n",
      "==============================================================================\n",
      "Dep. Variable:               audience   R-squared:                       0.879\n",
      "Model:                            OLS   Adj. R-squared:                  0.877\n",
      "Method:                 Least Squares   F-statistic:                     580.6\n",
      "Date:                Mon, 01 Aug 2016   Prob (F-statistic):               0.00\n",
      "Time:                        05:38:50   Log-Likelihood:                -38285.\n",
      "No. Observations:                2599   AIC:                         7.663e+04\n",
      "Df Residuals:                    2567   BIC:                         7.682e+04\n",
      "Df Model:                          32                                         \n",
      "Covariance Type:            nonrobust                                         \n",
      "======================================================================================\n",
      "                         coef    std err          t      P>|t|      [95.0% Conf. Int.]\n",
      "--------------------------------------------------------------------------------------\n",
      "star_score          2.032e+04   1.16e+04      1.753      0.080     -2408.923  4.31e+04\n",
      "star_user_count     2.835e+04   1.37e+04      2.065      0.039      1426.939  5.53e+04\n",
      "preview_audience    7.352e+04   1.38e+04      5.324      0.000      4.64e+04  1.01e+05\n",
      "d1_audience        -2.218e+05   4.47e+04     -4.961      0.000     -3.09e+05 -1.34e+05\n",
      "d2_audience         4.963e+04   4.37e+04      1.136      0.256     -3.61e+04  1.35e+05\n",
      "d3_audience         2.928e+05   6.41e+04      4.569      0.000      1.67e+05  4.18e+05\n",
      "d4_audience         3.154e+05   9.49e+04      3.323      0.001      1.29e+05  5.02e+05\n",
      "d5_audience         3.697e+05   6.68e+04      5.531      0.000      2.39e+05  5.01e+05\n",
      "d6_audience         8.589e+04   4.43e+04      1.938      0.053      -994.996  1.73e+05\n",
      "d7_audience        -5.197e+04   3.05e+04     -1.703      0.089     -1.12e+05  7880.393\n",
      "d1_screen          -6.443e+05   1.57e+05     -4.108      0.000     -9.52e+05 -3.37e+05\n",
      "d4_screen           1.016e+06    1.7e+05      5.975      0.000      6.83e+05  1.35e+06\n",
      "d5_screen           3.933e+05   2.02e+05      1.950      0.051     -2133.009  7.89e+05\n",
      "d6_screen          -6.719e+05   2.16e+05     -3.105      0.002      -1.1e+06 -2.48e+05\n",
      "d7_screen           2.091e+05   6.47e+04      3.234      0.001      8.23e+04  3.36e+05\n",
      "d1_show             3.489e+05   1.54e+05      2.266      0.024       4.7e+04  6.51e+05\n",
      "d2_show            -7.017e+05   2.02e+05     -3.472      0.001      -1.1e+06 -3.05e+05\n",
      "d3_show             6.775e+05   2.86e+05      2.371      0.018      1.17e+05  1.24e+06\n",
      "d4_show            -1.386e+06   2.81e+05     -4.940      0.000     -1.94e+06 -8.36e+05\n",
      "d6_show             8.464e+05   1.87e+05      4.526      0.000       4.8e+05  1.21e+06\n",
      "d1_seat             6.295e+04   2.45e+04      2.566      0.010      1.48e+04  1.11e+05\n",
      "d2_seat             4.794e+04   2.48e+04      1.936      0.053      -626.708  9.65e+04\n",
      "d4_seat             -4.59e+04   2.53e+04     -1.813      0.070     -9.55e+04  3738.872\n",
      "d5_seat            -6.104e+04    2.9e+04     -2.103      0.036     -1.18e+05 -4120.130\n",
      "d6_seat             4.281e+04   2.56e+04      1.673      0.094     -7370.994   9.3e+04\n",
      "d7_seat             1.059e+05    2.1e+04      5.040      0.000      6.47e+04  1.47e+05\n",
      "director_score      3.799e+05   1.91e+04     19.888      0.000      3.42e+05  4.17e+05\n",
      "prdtYear_score      -4.99e+04   1.13e+04     -4.399      0.000     -7.21e+04 -2.77e+04\n",
      "repNationNm_score  -7.293e+04   1.39e+04     -5.255      0.000        -1e+05 -4.57e+04\n",
      "watchGradeNm_score  2.459e+04   1.16e+04      2.122      0.034      1865.184  4.73e+04\n",
      "companyNm_score     -3.71e+04   1.05e+04     -3.521      0.000     -5.78e+04 -1.64e+04\n",
      "actor_score         2.643e+05   1.77e+04     14.901      0.000       2.3e+05  2.99e+05\n",
      "==============================================================================\n",
      "Omnibus:                     2419.934   Durbin-Watson:                   1.783\n",
      "Prob(Omnibus):                  0.000   Jarque-Bera (JB):           259260.735\n",
      "Skew:                           4.033   Prob(JB):                         0.00\n",
      "Kurtosis:                      51.260   Cond. No.                         586.\n",
      "==============================================================================\n",
      "\n",
      "Warnings:\n",
      "[1] Standard Errors assume that the covariance matrix of the errors is correctly specified.\n"
     ]
    }
   ],
   "source": [
    "remove_column_list = [\"repGenreNm_score\"]\n",
    "d_df = d_df.drop(remove_column_list, axis=1)\n",
    "\n",
    "model = sm.OLS(d_df.ix[:, -1], d_df.ix[:, 1:-1])\n",
    "result = model.fit()\n",
    "print(result.summary())"
   ]
  },
  {
   "cell_type": "code",
   "execution_count": 26,
   "metadata": {
    "collapsed": true
   },
   "outputs": [],
   "source": [
    "movie_columns = list(d_df.columns)[:-1]"
   ]
  },
  {
   "cell_type": "code",
   "execution_count": 27,
   "metadata": {
    "collapsed": false,
    "scrolled": false
   },
   "outputs": [
    {
     "data": {
      "text/html": [
       "<div>\n",
       "<table border=\"1\" class=\"dataframe\">\n",
       "  <thead>\n",
       "    <tr style=\"text-align: right;\">\n",
       "      <th></th>\n",
       "      <th>df</th>\n",
       "      <th>sum_sq</th>\n",
       "      <th>mean_sq</th>\n",
       "      <th>F</th>\n",
       "      <th>PR(&gt;F)</th>\n",
       "    </tr>\n",
       "  </thead>\n",
       "  <tbody>\n",
       "    <tr>\n",
       "      <th>const</th>\n",
       "      <td>1.0</td>\n",
       "      <td>8.544873e+13</td>\n",
       "      <td>8.544873e+13</td>\n",
       "      <td>223.094980</td>\n",
       "      <td>1.894308e-48</td>\n",
       "    </tr>\n",
       "    <tr>\n",
       "      <th>star_score</th>\n",
       "      <td>1.0</td>\n",
       "      <td>1.336789e+13</td>\n",
       "      <td>1.336789e+13</td>\n",
       "      <td>34.901730</td>\n",
       "      <td>3.923293e-09</td>\n",
       "    </tr>\n",
       "    <tr>\n",
       "      <th>preview_audience</th>\n",
       "      <td>1.0</td>\n",
       "      <td>7.244468e+14</td>\n",
       "      <td>7.244468e+14</td>\n",
       "      <td>1891.431825</td>\n",
       "      <td>1.533617e-310</td>\n",
       "    </tr>\n",
       "    <tr>\n",
       "      <th>d1_audience</th>\n",
       "      <td>1.0</td>\n",
       "      <td>3.027161e+15</td>\n",
       "      <td>3.027161e+15</td>\n",
       "      <td>7903.504000</td>\n",
       "      <td>0.000000e+00</td>\n",
       "    </tr>\n",
       "    <tr>\n",
       "      <th>d3_audience</th>\n",
       "      <td>1.0</td>\n",
       "      <td>4.552614e+14</td>\n",
       "      <td>4.552614e+14</td>\n",
       "      <td>1188.625427</td>\n",
       "      <td>1.271934e-214</td>\n",
       "    </tr>\n",
       "    <tr>\n",
       "      <th>d4_audience</th>\n",
       "      <td>1.0</td>\n",
       "      <td>3.733407e+14</td>\n",
       "      <td>3.733407e+14</td>\n",
       "      <td>974.741713</td>\n",
       "      <td>7.645317e-182</td>\n",
       "    </tr>\n",
       "    <tr>\n",
       "      <th>d5_audience</th>\n",
       "      <td>1.0</td>\n",
       "      <td>1.377395e+14</td>\n",
       "      <td>1.377395e+14</td>\n",
       "      <td>359.618973</td>\n",
       "      <td>3.451247e-75</td>\n",
       "    </tr>\n",
       "    <tr>\n",
       "      <th>d6_audience</th>\n",
       "      <td>1.0</td>\n",
       "      <td>2.629927e+13</td>\n",
       "      <td>2.629927e+13</td>\n",
       "      <td>68.663797</td>\n",
       "      <td>1.851954e-16</td>\n",
       "    </tr>\n",
       "    <tr>\n",
       "      <th>d1_screen</th>\n",
       "      <td>1.0</td>\n",
       "      <td>1.637618e+13</td>\n",
       "      <td>1.637618e+13</td>\n",
       "      <td>42.755979</td>\n",
       "      <td>7.446957e-11</td>\n",
       "    </tr>\n",
       "    <tr>\n",
       "      <th>d4_screen</th>\n",
       "      <td>1.0</td>\n",
       "      <td>6.461978e+13</td>\n",
       "      <td>6.461978e+13</td>\n",
       "      <td>168.713417</td>\n",
       "      <td>2.042833e-37</td>\n",
       "    </tr>\n",
       "    <tr>\n",
       "      <th>d7_screen</th>\n",
       "      <td>1.0</td>\n",
       "      <td>1.183898e+13</td>\n",
       "      <td>1.183898e+13</td>\n",
       "      <td>30.909952</td>\n",
       "      <td>2.979846e-08</td>\n",
       "    </tr>\n",
       "    <tr>\n",
       "      <th>d2_seat</th>\n",
       "      <td>1.0</td>\n",
       "      <td>4.360595e+13</td>\n",
       "      <td>4.360595e+13</td>\n",
       "      <td>113.849178</td>\n",
       "      <td>4.858033e-26</td>\n",
       "    </tr>\n",
       "    <tr>\n",
       "      <th>d7_seat</th>\n",
       "      <td>1.0</td>\n",
       "      <td>4.299110e+13</td>\n",
       "      <td>4.299110e+13</td>\n",
       "      <td>112.243906</td>\n",
       "      <td>1.055194e-25</td>\n",
       "    </tr>\n",
       "    <tr>\n",
       "      <th>director_score</th>\n",
       "      <td>1.0</td>\n",
       "      <td>2.381951e+14</td>\n",
       "      <td>2.381951e+14</td>\n",
       "      <td>621.894833</td>\n",
       "      <td>3.520758e-123</td>\n",
       "    </tr>\n",
       "    <tr>\n",
       "      <th>actor_score</th>\n",
       "      <td>1.0</td>\n",
       "      <td>7.520336e+13</td>\n",
       "      <td>7.520336e+13</td>\n",
       "      <td>196.345707</td>\n",
       "      <td>4.735666e-43</td>\n",
       "    </tr>\n",
       "    <tr>\n",
       "      <th>Residual</th>\n",
       "      <td>2584.0</td>\n",
       "      <td>9.897109e+14</td>\n",
       "      <td>3.830150e+11</td>\n",
       "      <td>NaN</td>\n",
       "      <td>NaN</td>\n",
       "    </tr>\n",
       "  </tbody>\n",
       "</table>\n",
       "</div>"
      ],
      "text/plain": [
       "                      df        sum_sq       mean_sq            F  \\\n",
       "const                1.0  8.544873e+13  8.544873e+13   223.094980   \n",
       "star_score           1.0  1.336789e+13  1.336789e+13    34.901730   \n",
       "preview_audience     1.0  7.244468e+14  7.244468e+14  1891.431825   \n",
       "d1_audience          1.0  3.027161e+15  3.027161e+15  7903.504000   \n",
       "d3_audience          1.0  4.552614e+14  4.552614e+14  1188.625427   \n",
       "d4_audience          1.0  3.733407e+14  3.733407e+14   974.741713   \n",
       "d5_audience          1.0  1.377395e+14  1.377395e+14   359.618973   \n",
       "d6_audience          1.0  2.629927e+13  2.629927e+13    68.663797   \n",
       "d1_screen            1.0  1.637618e+13  1.637618e+13    42.755979   \n",
       "d4_screen            1.0  6.461978e+13  6.461978e+13   168.713417   \n",
       "d7_screen            1.0  1.183898e+13  1.183898e+13    30.909952   \n",
       "d2_seat              1.0  4.360595e+13  4.360595e+13   113.849178   \n",
       "d7_seat              1.0  4.299110e+13  4.299110e+13   112.243906   \n",
       "director_score       1.0  2.381951e+14  2.381951e+14   621.894833   \n",
       "actor_score          1.0  7.520336e+13  7.520336e+13   196.345707   \n",
       "Residual          2584.0  9.897109e+14  3.830150e+11          NaN   \n",
       "\n",
       "                         PR(>F)  \n",
       "const              1.894308e-48  \n",
       "star_score         3.923293e-09  \n",
       "preview_audience  1.533617e-310  \n",
       "d1_audience        0.000000e+00  \n",
       "d3_audience       1.271934e-214  \n",
       "d4_audience       7.645317e-182  \n",
       "d5_audience        3.451247e-75  \n",
       "d6_audience        1.851954e-16  \n",
       "d1_screen          7.446957e-11  \n",
       "d4_screen          2.042833e-37  \n",
       "d7_screen          2.979846e-08  \n",
       "d2_seat            4.858033e-26  \n",
       "d7_seat            1.055194e-25  \n",
       "director_score    3.520758e-123  \n",
       "actor_score        4.735666e-43  \n",
       "Residual                    NaN  "
      ]
     },
     "execution_count": 27,
     "metadata": {},
     "output_type": "execute_result"
    }
   ],
   "source": [
    "formula_str = \"audience ~ \" + \" + \".join(movie_columns)\n",
    "model = sm.OLS.from_formula(formula_str, data=d_df)\n",
    "result = model.fit()\n",
    "table_anova = sm.stats.anova_lm(result)\n",
    "table_anova"
   ]
  },
  {
   "cell_type": "code",
   "execution_count": 13,
   "metadata": {
    "collapsed": false
   },
   "outputs": [
    {
     "name": "stdout",
     "output_type": "stream",
     "text": [
      "                            OLS Regression Results                            \n",
      "==============================================================================\n",
      "Dep. Variable:               audience   R-squared:                       0.844\n",
      "Model:                            OLS   Adj. R-squared:                  0.843\n",
      "Method:                 Least Squares   F-statistic:                     633.8\n",
      "Date:                Mon, 01 Aug 2016   Prob (F-statistic):               0.00\n",
      "Time:                        05:51:41   Log-Likelihood:                -38611.\n",
      "No. Observations:                2599   AIC:                         7.727e+04\n",
      "Df Residuals:                    2577   BIC:                         7.740e+04\n",
      "Df Model:                          22                                         \n",
      "Covariance Type:            nonrobust                                         \n",
      "====================================================================================\n",
      "                       coef    std err          t      P>|t|      [95.0% Conf. Int.]\n",
      "------------------------------------------------------------------------------------\n",
      "preview_audience  6.949e+04   1.49e+04      4.657      0.000      4.02e+04  9.88e+04\n",
      "d1_audience      -5.854e+04   4.38e+04     -1.336      0.182     -1.44e+05  2.74e+04\n",
      "d2_audience       1.386e+05    3.9e+04      3.556      0.000      6.22e+04  2.15e+05\n",
      "d3_audience       4.281e+05   7.11e+04      6.020      0.000      2.89e+05  5.68e+05\n",
      "d4_audience       8.299e+04   9.66e+04      0.859      0.390     -1.06e+05  2.72e+05\n",
      "d5_audience        4.38e+05   6.47e+04      6.775      0.000      3.11e+05  5.65e+05\n",
      "d6_audience       1.168e+05   3.32e+04      3.514      0.000      5.16e+04  1.82e+05\n",
      "d1_screen         -6.43e+05    2.1e+05     -3.066      0.002     -1.05e+06 -2.32e+05\n",
      "d2_screen         7.162e+05   2.83e+05      2.533      0.011      1.62e+05  1.27e+06\n",
      "d3_screen          2.66e+05   2.24e+05      1.190      0.234     -1.72e+05  7.04e+05\n",
      "d4_screen         5.547e+05   2.04e+05      2.726      0.006      1.56e+05  9.54e+05\n",
      "d6_screen        -1.227e+06   2.13e+05     -5.756      0.000     -1.65e+06 -8.09e+05\n",
      "d7_screen         2.652e+05    7.1e+04      3.733      0.000      1.26e+05  4.04e+05\n",
      "d1_show            1.31e+05   1.97e+05      0.665      0.506     -2.55e+05  5.17e+05\n",
      "d2_show          -1.438e+06    2.6e+05     -5.531      0.000     -1.95e+06 -9.28e+05\n",
      "d5_show          -2.378e+05   2.17e+05     -1.095      0.274     -6.64e+05  1.88e+05\n",
      "d6_show           1.521e+06   2.37e+05      6.407      0.000      1.06e+06  1.99e+06\n",
      "d1_seat           -7.94e+04   2.08e+04     -3.817      0.000      -1.2e+05 -3.86e+04\n",
      "d6_seat          -1.111e+04   2.31e+04     -0.480      0.631     -5.65e+04  3.42e+04\n",
      "d7_seat           4.745e+04    2.1e+04      2.255      0.024      6181.464  8.87e+04\n",
      "director_score    1.994e+05   1.96e+04     10.158      0.000      1.61e+05  2.38e+05\n",
      "actor_score       2.187e+05   1.91e+04     11.455      0.000      1.81e+05  2.56e+05\n",
      "==============================================================================\n",
      "Omnibus:                     2843.586   Durbin-Watson:                   1.661\n",
      "Prob(Omnibus):                  0.000   Jarque-Bera (JB):           476743.120\n",
      "Skew:                           5.187   Prob(JB):                         0.00\n",
      "Kurtosis:                      68.535   Cond. No.                         189.\n",
      "==============================================================================\n",
      "\n",
      "Warnings:\n",
      "[1] Standard Errors assume that the covariance matrix of the errors is correctly specified.\n"
     ]
    }
   ],
   "source": [
    "remove_column_list = [\"d7_audience\",\"d5_screen\",\"d3_show\",\"d4_show\",\"d7_show\",\"d2_seat\",\"d3_seat\",\"d4_seat\",\"d5_seat\",\"openDt_score\",\"prdtYear_score\",\"showTm_score\",\"repGenreNm_score\",\"watchGradeNm_score\",\"repNationNm_score\",\"companyNm_score\"]\n",
    "d_df = d_df.drop(remove_column_list, axis=1)\n",
    "\n",
    "model = sm.OLS(d_df.ix[:, -1], d_df.ix[:, 1:-1])\n",
    "result = model.fit()\n",
    "print(result.summary())"
   ]
  },
  {
   "cell_type": "code",
   "execution_count": 135,
   "metadata": {
    "collapsed": false
   },
   "outputs": [
    {
     "name": "stdout",
     "output_type": "stream",
     "text": [
      "                            OLS Regression Results                            \n",
      "==============================================================================\n",
      "Dep. Variable:               audience   R-squared:                       0.865\n",
      "Model:                            OLS   Adj. R-squared:                  0.865\n",
      "Method:                 Least Squares   F-statistic:                     1186.\n",
      "Date:                Mon, 01 Aug 2016   Prob (F-statistic):               0.00\n",
      "Time:                        06:09:24   Log-Likelihood:                -38420.\n",
      "No. Observations:                2599   AIC:                         7.687e+04\n",
      "Df Residuals:                    2585   BIC:                         7.695e+04\n",
      "Df Model:                          14                                         \n",
      "Covariance Type:            nonrobust                                         \n",
      "====================================================================================\n",
      "                       coef    std err          t      P>|t|      [95.0% Conf. Int.]\n",
      "------------------------------------------------------------------------------------\n",
      "star_score       -1.132e+05   5010.461    -22.596      0.000     -1.23e+05 -1.03e+05\n",
      "preview_audience    6.5e+04   1.38e+04      4.719      0.000       3.8e+04   9.2e+04\n",
      "d1_audience      -1.309e+05   3.26e+04     -4.021      0.000     -1.95e+05 -6.71e+04\n",
      "d3_audience       4.237e+05    6.1e+04      6.944      0.000      3.04e+05  5.43e+05\n",
      "d4_audience       1.432e+05   8.67e+04      1.652      0.099     -2.68e+04  3.13e+05\n",
      "d5_audience       3.668e+05   5.81e+04      6.312      0.000      2.53e+05  4.81e+05\n",
      "d6_audience       9.863e+04   2.94e+04      3.361      0.001      4.11e+04  1.56e+05\n",
      "d1_screen        -7.365e+05   7.42e+04     -9.929      0.000     -8.82e+05 -5.91e+05\n",
      "d4_screen          5.44e+05   8.65e+04      6.292      0.000      3.75e+05  7.14e+05\n",
      "d7_screen         2.289e+05   5.59e+04      4.091      0.000      1.19e+05  3.39e+05\n",
      "d2_seat           4.257e+04   1.65e+04      2.586      0.010      1.03e+04  7.48e+04\n",
      "d7_seat           9.726e+04   1.59e+04      6.117      0.000      6.61e+04  1.28e+05\n",
      "director_score    3.507e+05   1.94e+04     18.119      0.000      3.13e+05  3.89e+05\n",
      "actor_score       2.233e+05   1.76e+04     12.720      0.000      1.89e+05  2.58e+05\n",
      "==============================================================================\n",
      "Omnibus:                     2508.996   Durbin-Watson:                   1.802\n",
      "Prob(Omnibus):                  0.000   Jarque-Bera (JB):           307744.680\n",
      "Skew:                           4.245   Prob(JB):                         0.00\n",
      "Kurtosis:                      55.628   Cond. No.                         63.4\n",
      "==============================================================================\n",
      "\n",
      "Warnings:\n",
      "[1] Standard Errors assume that the covariance matrix of the errors is correctly specified.\n"
     ]
    }
   ],
   "source": [
    "remove_column_list = ['d7_audience']\n",
    "d_df = d_df.drop(remove_column_list, axis=1)\n",
    "\n",
    "model = sm.OLS(d_df.ix[:, -1], d_df.ix[:, 1:-1])\n",
    "result = model.fit()\n",
    "print(result.summary())"
   ]
  },
  {
   "cell_type": "markdown",
   "metadata": {},
   "source": [
    "## model 설정"
   ]
  },
  {
   "cell_type": "code",
   "execution_count": 13,
   "metadata": {
    "collapsed": false
   },
   "outputs": [
    {
     "name": "stderr",
     "output_type": "stream",
     "text": [
      "/Users/Cho/.pyenv/versions/3.5.1/envs/dss/lib/python3.5/site-packages/scipy/linalg/basic.py:884: RuntimeWarning: internal gelsd driver lwork query error, required iwork dimension not returned. This is likely the result of LAPACK bug 0038, fixed in LAPACK 3.2.2 (released July 21, 2010). Falling back to 'gelss' driver.\n",
      "  warnings.warn(mesg, RuntimeWarning)\n"
     ]
    },
    {
     "data": {
      "text/plain": [
       "LinearRegression(copy_X=True, fit_intercept=True, n_jobs=1, normalize=False)"
      ]
     },
     "execution_count": 13,
     "metadata": {},
     "output_type": "execute_result"
    }
   ],
   "source": [
    "model = LinearRegression()\n",
    "model.fit(d_df.ix[:, :-1], d_df.ix[:, -1])"
   ]
  },
  {
   "cell_type": "code",
   "execution_count": 18,
   "metadata": {
    "collapsed": true
   },
   "outputs": [],
   "source": [
    "def view_result(number):\n",
    "    a = d_df[d_df[\"audience\"].index==number]\n",
    "    print(model.predict(a.ix[:,:-1]))\n",
    "    print(d_df[d_df[\"audience\"].index==number][\"audience\"])"
   ]
  },
  {
   "cell_type": "code",
   "execution_count": 22,
   "metadata": {
    "collapsed": false
   },
   "outputs": [
    {
     "name": "stdout",
     "output_type": "stream",
     "text": [
      "[ 2234647.50988125]\n",
      "1635    1726202\n",
      "Name: audience, dtype: int64\n"
     ]
    }
   ],
   "source": [
    "view_result(1635)"
   ]
  }
 ],
 "metadata": {
  "kernelspec": {
   "display_name": "Python 3",
   "language": "python",
   "name": "python3"
  },
  "language_info": {
   "codemirror_mode": {
    "name": "ipython",
    "version": 3
   },
   "file_extension": ".py",
   "mimetype": "text/x-python",
   "name": "python",
   "nbconvert_exporter": "python",
   "pygments_lexer": "ipython3",
   "version": "3.5.1"
  }
 },
 "nbformat": 4,
 "nbformat_minor": 0
}

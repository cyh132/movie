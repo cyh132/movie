{
 "cells": [
  {
   "cell_type": "markdown",
   "metadata": {},
   "source": [
    "## import package"
   ]
  },
  {
   "cell_type": "code",
   "execution_count": 3,
   "metadata": {
    "collapsed": true
   },
   "outputs": [],
   "source": [
    "import requests\n",
    "import pandas as pd\n",
    "import numpy as np\n",
    "import os\n",
    "import time\n",
    "import datetime\n",
    "import json"
   ]
  },
  {
   "cell_type": "markdown",
   "metadata": {},
   "source": [
    "## 2004~2016 영화데이터 수집"
   ]
  },
  {
   "cell_type": "markdown",
   "metadata": {},
   "source": [
    "영화진흥위원회 연도별 박스오피스 목록을 파일로 불러들여서 하나의 파일로 합치고\n",
    "누적 관객수가 10000명 이상인 것만 출력하고 total index를 drop 시킵니다.\n",
    "영화명으로 중복된 데이터를 삭제 후 movie_df에 저장 했습니다."
   ]
  },
  {
   "cell_type": "code",
   "execution_count": 21,
   "metadata": {
    "collapsed": true
   },
   "outputs": [],
   "source": [
    "csv_list = [file for file in os.listdir() if file.endswith(\"boxoffice.csv\")]"
   ]
  },
  {
   "cell_type": "code",
   "execution_count": 22,
   "metadata": {
    "collapsed": true
   },
   "outputs": [],
   "source": [
    "for i, data in enumerate(csv_list):\n",
    "    if i == 0:\n",
    "        df = pd.read_csv(data)\n",
    "    else:\n",
    "        small_df = pd.read_csv(data)\n",
    "        df = pd.concat([df, small_df]).reset_index(drop=True)"
   ]
  },
  {
   "cell_type": "code",
   "execution_count": 23,
   "metadata": {
    "collapsed": false
   },
   "outputs": [],
   "source": [
    "df[\"관객수\"] = df[\"관객수\"].str.replace(\",\",\"\")\n",
    "df[\"관객수\"] = df[\"관객수\"].astype(int)\n",
    "movie_df = df[df[\"관객수\"] > 10000].reset_index(drop=True)\n",
    "movie_df = movie_df.drop(movie_df.index[[3191]])\n",
    "movie_df = movie_df.drop_duplicates(\"영화명\").reset_index(drop=True)"
   ]
  },
  {
   "cell_type": "markdown",
   "metadata": {},
   "source": [
    "### movie_df to csv"
   ]
  },
  {
   "cell_type": "code",
   "execution_count": 25,
   "metadata": {
    "collapsed": true
   },
   "outputs": [],
   "source": [
    "movie_df.to_csv(\"movie.csv\",encoding=\"utf-8\")"
   ]
  },
  {
   "cell_type": "markdown",
   "metadata": {},
   "source": [
    "## 영화 기본 정보 수집"
   ]
  },
  {
   "cell_type": "markdown",
   "metadata": {},
   "source": [
    "영화진흥위원회 오픈api를 사용"
   ]
  },
  {
   "cell_type": "markdown",
   "metadata": {},
   "source": [
    "영화 제목으로 1차적으로 영화코드, 영화제목, 감독, 제작년도, 개봉년도, 상영타입, 제작국가, 대표장르, 배급사 정보 수집"
   ]
  },
  {
   "cell_type": "code",
   "execution_count": 26,
   "metadata": {
    "collapsed": true
   },
   "outputs": [],
   "source": [
    "movieNm = movie_df[\"영화명\"]"
   ]
  },
  {
   "cell_type": "code",
   "execution_count": 29,
   "metadata": {
    "collapsed": true
   },
   "outputs": [],
   "source": [
    "def get_movie_data(movieNm):\n",
    "    url = \"http://www.kobis.or.kr/kobisopenapi/webservice/rest/movie/searchMovieList.json\"\n",
    "    params = {\"key\":\"74ab5419e95d3e66cd760d6f498dc423\", \"movieNm\":movieNm}\n",
    "    r = requests.get(url, params=params)\n",
    "    return r.json()"
   ]
  },
  {
   "cell_type": "code",
   "execution_count": 30,
   "metadata": {
    "collapsed": true
   },
   "outputs": [],
   "source": [
    "def make_movie_df(movieNm):\n",
    "    movie_df = pd.DataFrame(columns = [\"movieCd\", \"movieNm\", \"director\",\"prdtYear\", \"openDt\", \"typeNm\", \"repNationNm\", \"repGenreNm\", \"companyNm\"])\n",
    "    for i in list(movieNm):\n",
    "        try:\n",
    "            for data in get_movie_data(i)['movieListResult']['movieList']:\n",
    "                if len(data[\"directors\"]) >= 2:\n",
    "                    director = data[\"directors\"][0][\"peopleNm\"]\n",
    "                elif len(data[\"directors\"]) == 1:\n",
    "                    director = data[\"directors\"][0][\"peopleNm\"]\n",
    "                if len(data[\"companys\"]) >= 2:\n",
    "                    companyNm = data[\"companys\"][0][\"companyNm\"]\n",
    "                elif len(data[\"companys\"]) == 1:\n",
    "                    companyNm = data[\"companys\"][0][\"companyNm\"] \n",
    "                movie_df.loc[len(movie_df)] = [\n",
    "                    data[\"movieCd\"],\n",
    "                    data[\"movieNm\"],\n",
    "                    director,\n",
    "                    data[\"prdtYear\"],\n",
    "                    data[\"openDt\"],\n",
    "                    data[\"typeNm\"],\n",
    "                    data[\"repNationNm\"],\n",
    "                    data[\"repGenreNm\"],\n",
    "                    companyNm\n",
    "                ]\n",
    "        except:\n",
    "            print(i)\n",
    "    return movie_df"
   ]
  },
  {
   "cell_type": "code",
   "execution_count": 31,
   "metadata": {
    "collapsed": false
   },
   "outputs": [
    {
     "name": "stdout",
     "output_type": "stream",
     "text": [
      "주홍글씨\n",
      "스텔스\n",
      "사하라\n",
      "황후화\n",
      "도쿄!\n",
      "그들 각자의 영화관\n",
      "시네마 천국\n"
     ]
    }
   ],
   "source": [
    "movie_info_df = make_movie_df(movieNm)"
   ]
  },
  {
   "cell_type": "code",
   "execution_count": 33,
   "metadata": {
    "collapsed": true
   },
   "outputs": [],
   "source": [
    "movie_info_df = movie_info_df[~movie_info_df[\"movieNm\"].str.contains(\"시네마정동\")].reset_index(drop=True)\n",
    "movie_info_df = movie_info_df[movie_info_df[\"repNationNm\"] != \"기타\"].reset_index(drop=True)\n",
    "movie_info_df = movie_info_df.drop_duplicates(\"movieCd\").reset_index(drop=True)\n",
    "movie_info_df = movie_info_df.drop_duplicates(\"movieNm\").reset_index(drop=True)\n",
    "movie_info_df = movie_info_df[movie_info_df[\"openDt\"] != \"\"].reset_index(drop=True)"
   ]
  },
  {
   "cell_type": "markdown",
   "metadata": {},
   "source": [
    "### movie_info_df to csv"
   ]
  },
  {
   "cell_type": "code",
   "execution_count": 42,
   "metadata": {
    "collapsed": true
   },
   "outputs": [],
   "source": [
    "movie_info_df.to_csv(\"movie_info.csv\",encoding=\"utf-8\")"
   ]
  },
  {
   "cell_type": "markdown",
   "metadata": {},
   "source": [
    "## 영화 상세 정보 수집"
   ]
  },
  {
   "cell_type": "markdown",
   "metadata": {},
   "source": [
    "영화진흥위원회 오픈api 이용"
   ]
  },
  {
   "cell_type": "markdown",
   "metadata": {},
   "source": [
    "영화 코드를 이용하여 영화제목, 상영시간, 상영등급, 배우, 배급사 정보 추출"
   ]
  },
  {
   "cell_type": "code",
   "execution_count": 53,
   "metadata": {
    "collapsed": true
   },
   "outputs": [],
   "source": [
    "movieCd = movie_info_df[\"movieCd\"][:3000]"
   ]
  },
  {
   "cell_type": "code",
   "execution_count": 54,
   "metadata": {
    "collapsed": true
   },
   "outputs": [],
   "source": [
    "movieCd1 = movie_info_df[\"movieCd\"][3000::]"
   ]
  },
  {
   "cell_type": "code",
   "execution_count": 63,
   "metadata": {
    "collapsed": true
   },
   "outputs": [],
   "source": [
    "def get_movie_detail(movieCd):\n",
    "    url = \"http://www.kobis.or.kr/kobisopenapi/webservice/rest/movie/searchMovieInfo.json\"\n",
    "    params = {\"key\":\"d7aeec3963622626f334411333e0121e\", \"movieCd\":movieCd}\n",
    "    r = requests.get(url, params=params)\n",
    "    return r.json()"
   ]
  },
  {
   "cell_type": "code",
   "execution_count": 64,
   "metadata": {
    "collapsed": true
   },
   "outputs": [],
   "source": [
    "def make_movie_detail_df(movie_info_df):\n",
    "    movie_detail_df = pd.DataFrame(columns=[\"movieCd\", \n",
    "                                            \"movieNm\", \n",
    "                                            \"showTm\", \n",
    "                                            \"watchGradeNm\", \n",
    "                                            \"actor_1\",\n",
    "                                            \"actor_2\",\n",
    "                                            \"actor_3\",\n",
    "                                            \"companyNm\"\n",
    "                                            ])\n",
    "    for i in list(movieCd1):\n",
    "        try:\n",
    "            data = get_movie_detail(i)['movieInfoResult']['movieInfo']\n",
    "            actor_list = []\n",
    "            if len(data[\"audits\"]) >= 2:\n",
    "                watchGradeNm = data[\"audits\"][0][\"watchGradeNm\"]\n",
    "            elif len(data[\"audits\"]) == 1:\n",
    "                watchGradeNm = data[\"audits\"][0][\"watchGradeNm\"]\n",
    "            if len(data[\"companys\"]) >= 2:\n",
    "                companyNm = data[\"companys\"][0][\"companyNm\"]\n",
    "            elif len(data[\"companys\"]) == 1:\n",
    "                companyNm = data[\"companys\"][0][\"companyNm\"] \n",
    "            if len(data[\"actors\"]) >= 3:\n",
    "                actor_list = [\n",
    "                    data[\"actors\"][0][\"peopleNm\"],\n",
    "                    data[\"actors\"][1][\"peopleNm\"],\n",
    "                    data[\"actors\"][2][\"peopleNm\"]\n",
    "                ]\n",
    "            else:\n",
    "                for i in range(len(data[\"actors\"])):\n",
    "                    actor_list.append(data[\"actors\"][i][\"peopleNm\"])\n",
    "                for i in range(3-len(data[\"actors\"])):\n",
    "                    actor_list.append(\"\")\n",
    "            movie_detail_df.loc[len(movie_detail_df)] = [\n",
    "                data[\"movieCd\"],\n",
    "                data[\"movieNm\"],\n",
    "                data[\"showTm\"],\n",
    "                watchGradeNm,\n",
    "                *actor_list,\n",
    "                companyNm\n",
    "            ]\n",
    "        except:\n",
    "             print(i)\n",
    "    return movie_detail_df"
   ]
  },
  {
   "cell_type": "code",
   "execution_count": 57,
   "metadata": {
    "collapsed": true
   },
   "outputs": [],
   "source": [
    "movie_detail_df = make_movie_detail_df(movieCd)\n",
    "movie_detail1_df = make_movie_detail_df(movieCd1)\n",
    "movie_detail = pd.concat([movie_detail_df, movie_detail1_df]).reset_index(drop=True)"
   ]
  },
  {
   "cell_type": "code",
   "execution_count": 80,
   "metadata": {
    "collapsed": true
   },
   "outputs": [],
   "source": [
    "boxoffice_df = movie_info_df.merge(movie_detail, left_on=\"movieCd\", right_on=\"movieCd\")[[\n",
    "        \"movieCd\",\n",
    "        \"movieNm_x\",\n",
    "        \"director\",\n",
    "        \"openDt\",\n",
    "        \"prdtYear\",\n",
    "        \"repNationNm\",\n",
    "        \"repGenreNm\",\n",
    "        \"showTm\",\n",
    "        \"watchGradeNm\",\n",
    "        \"actor_1\",\n",
    "        \"actor_2\",\n",
    "        \"actor_3\",\n",
    "        \"companyNm_y\"\n",
    "    ]]\n",
    "boxoffice_df = boxoffice_df.rename(columns={\"movieNm_x\":\"movieNm\", \"companyNm_y\":\"companyNm\"})"
   ]
  },
  {
   "cell_type": "markdown",
   "metadata": {},
   "source": [
    "### boxoffice_df to csv"
   ]
  },
  {
   "cell_type": "code",
   "execution_count": 84,
   "metadata": {
    "collapsed": true
   },
   "outputs": [],
   "source": [
    "boxoffice_df.to_csv(\"boxoffice.csv\",encoding=\"utf-8\")"
   ]
  }
 ],
 "metadata": {
  "kernelspec": {
   "display_name": "Python 3",
   "language": "python",
   "name": "python3"
  },
  "language_info": {
   "codemirror_mode": {
    "name": "ipython",
    "version": 3
   },
   "file_extension": ".py",
   "mimetype": "text/x-python",
   "name": "python",
   "nbconvert_exporter": "python",
   "pygments_lexer": "ipython3",
   "version": "3.5.1"
  }
 },
 "nbformat": 4,
 "nbformat_minor": 0
}
